{
  "cells": [
    {
      "cell_type": "markdown",
      "metadata": {
        "id": "zV7ujxtGAfrV"
      },
      "source": [
        "# Data Visualization Using `plotnine`\n",
        "\n",
        "The Palmer Penguins dataset had a variety of column types with which to explore some nice visualizations. The `mtcars` dataset is another popular dataset for doing some simple data work, but does not contain the same types of variables.\n",
        "\n",
        "Run the following code to load the `mtcars` dataset and explore the observations and variables contained within. To learn more about this dataset check out [this site](https://stat.ethz.ch/R-manual/R-devel/library/datasets/html/mtcars.html)"
      ]
    },
    {
      "cell_type": "markdown",
      "metadata": {},
      "source": [
        "### Repository\n",
        "[GitHub Repository](https://github.com/shiqiwu212/GSB-S54401/tree/9b30d5f1456ed60efbe2c7651332d8fd8f696e46/week%201)"
      ]
    },
    {
      "cell_type": "code",
      "execution_count": 17,
      "metadata": {
        "id": "q0b5clD3_-9F"
      },
      "outputs": [
        {
          "ename": "SyntaxError",
          "evalue": "invalid syntax. Perhaps you forgot a comma? (4014363866.py, line 9)",
          "output_type": "error",
          "traceback": [
            "\u001b[0;36m  Cell \u001b[0;32mIn[17], line 9\u001b[0;36m\u001b[0m\n",
            "\u001b[0;31m    [GitHub Repository (click to open)](https://github.com/<your-username>/<your-repo>)\u001b[0m\n",
            "\u001b[0m     ^\u001b[0m\n",
            "\u001b[0;31mSyntaxError\u001b[0m\u001b[0;31m:\u001b[0m invalid syntax. Perhaps you forgot a comma?\n"
          ]
        }
      ],
      "source": [
        "# ChatGPT contribution \n",
        "# Minimal imports and robust mtcars loading \n",
        "import pandas as pd\n",
        "import numpy as np\n",
        "import matplotlib.pyplot as plt\n",
        "from io import StringIO\n",
        "\n",
        "### Repository\n",
        "[GitHub Repository (click to open)](https://github.com/<your-username>/<your-repo>)\n",
        "\n",
        "# Try 1: pydataset\n",
        "try:\n",
        "    from pydataset import data\n",
        "    df = data('mtcars')[['mpg','cyl','wt','am']]\n",
        "except Exception:\n",
        "    # Try 2: local CSV (same folder)\n",
        "    try:\n",
        "        df = pd.read_csv('mtcars.csv')[['mpg','cyl','wt','am']]\n",
        "    except Exception:\n",
        "        # Try 3: inline fallback (small mtcars subset -> enough for plots)\n",
        "        _csv = StringIO(\"\"\"mpg,cyl,wt,am\n",
        "21.0,6,2.620,1\n",
        "21.0,6,2.875,1\n",
        "22.8,4,2.320,1\n",
        "21.4,6,3.215,0\n",
        "18.7,8,3.440,0\n",
        "18.1,6,3.460,0\n",
        "14.3,8,3.570,0\n",
        "24.4,4,3.190,0\n",
        "22.8,4,3.150,0\n",
        "19.2,6,3.440,0\n",
        "17.8,6,3.440,0\n",
        "16.4,8,4.070,0\n",
        "17.3,8,3.730,0\n",
        "15.2,8,3.780,0\n",
        "10.4,8,5.250,0\n",
        "26.0,4,2.140,1\n",
        "30.4,4,1.615,1\n",
        "15.8,8,3.520,0\n",
        "19.7,6,2.770,1\n",
        "15.0,8,3.780,0\n",
        "21.4,4,2.780,1\n",
        "18.1,6,3.150,0\n",
        "11.4,8,5.424,0\n",
        "18.7,8,3.840,0\n",
        "\"\"\")\n",
        "        df = pd.read_csv(_csv)\n",
        "\n",
        "# quick preview (helps the report)\n",
        "df.head()\n"
      ]
    },
    {
      "cell_type": "code",
      "execution_count": null,
      "metadata": {
        "id": "vOlTRngUAzYl"
      },
      "outputs": [
        {
          "data": {
            "text/html": [
              "<div>\n",
              "<style scoped>\n",
              "    .dataframe tbody tr th:only-of-type {\n",
              "        vertical-align: middle;\n",
              "    }\n",
              "\n",
              "    .dataframe tbody tr th {\n",
              "        vertical-align: top;\n",
              "    }\n",
              "\n",
              "    .dataframe thead th {\n",
              "        text-align: right;\n",
              "    }\n",
              "</style>\n",
              "<table border=\"1\" class=\"dataframe\">\n",
              "  <thead>\n",
              "    <tr style=\"text-align: right;\">\n",
              "      <th></th>\n",
              "      <th>mpg</th>\n",
              "      <th>cyl</th>\n",
              "      <th>wt</th>\n",
              "      <th>am</th>\n",
              "    </tr>\n",
              "  </thead>\n",
              "  <tbody>\n",
              "    <tr>\n",
              "      <th>0</th>\n",
              "      <td>21.0</td>\n",
              "      <td>6</td>\n",
              "      <td>2.620</td>\n",
              "      <td>1</td>\n",
              "    </tr>\n",
              "    <tr>\n",
              "      <th>1</th>\n",
              "      <td>21.0</td>\n",
              "      <td>6</td>\n",
              "      <td>2.875</td>\n",
              "      <td>1</td>\n",
              "    </tr>\n",
              "    <tr>\n",
              "      <th>2</th>\n",
              "      <td>22.8</td>\n",
              "      <td>4</td>\n",
              "      <td>2.320</td>\n",
              "      <td>1</td>\n",
              "    </tr>\n",
              "    <tr>\n",
              "      <th>3</th>\n",
              "      <td>21.4</td>\n",
              "      <td>6</td>\n",
              "      <td>3.215</td>\n",
              "      <td>0</td>\n",
              "    </tr>\n",
              "    <tr>\n",
              "      <th>4</th>\n",
              "      <td>18.7</td>\n",
              "      <td>8</td>\n",
              "      <td>3.440</td>\n",
              "      <td>0</td>\n",
              "    </tr>\n",
              "    <tr>\n",
              "      <th>5</th>\n",
              "      <td>18.1</td>\n",
              "      <td>6</td>\n",
              "      <td>3.460</td>\n",
              "      <td>0</td>\n",
              "    </tr>\n",
              "    <tr>\n",
              "      <th>6</th>\n",
              "      <td>14.3</td>\n",
              "      <td>8</td>\n",
              "      <td>3.570</td>\n",
              "      <td>0</td>\n",
              "    </tr>\n",
              "    <tr>\n",
              "      <th>7</th>\n",
              "      <td>24.4</td>\n",
              "      <td>4</td>\n",
              "      <td>3.190</td>\n",
              "      <td>0</td>\n",
              "    </tr>\n",
              "    <tr>\n",
              "      <th>8</th>\n",
              "      <td>22.8</td>\n",
              "      <td>4</td>\n",
              "      <td>3.150</td>\n",
              "      <td>0</td>\n",
              "    </tr>\n",
              "    <tr>\n",
              "      <th>9</th>\n",
              "      <td>19.2</td>\n",
              "      <td>6</td>\n",
              "      <td>3.440</td>\n",
              "      <td>0</td>\n",
              "    </tr>\n",
              "    <tr>\n",
              "      <th>10</th>\n",
              "      <td>17.8</td>\n",
              "      <td>6</td>\n",
              "      <td>3.440</td>\n",
              "      <td>0</td>\n",
              "    </tr>\n",
              "    <tr>\n",
              "      <th>11</th>\n",
              "      <td>16.4</td>\n",
              "      <td>8</td>\n",
              "      <td>4.070</td>\n",
              "      <td>0</td>\n",
              "    </tr>\n",
              "    <tr>\n",
              "      <th>12</th>\n",
              "      <td>17.3</td>\n",
              "      <td>8</td>\n",
              "      <td>3.730</td>\n",
              "      <td>0</td>\n",
              "    </tr>\n",
              "    <tr>\n",
              "      <th>13</th>\n",
              "      <td>15.2</td>\n",
              "      <td>8</td>\n",
              "      <td>3.780</td>\n",
              "      <td>0</td>\n",
              "    </tr>\n",
              "    <tr>\n",
              "      <th>14</th>\n",
              "      <td>10.4</td>\n",
              "      <td>8</td>\n",
              "      <td>5.250</td>\n",
              "      <td>0</td>\n",
              "    </tr>\n",
              "    <tr>\n",
              "      <th>15</th>\n",
              "      <td>26.0</td>\n",
              "      <td>4</td>\n",
              "      <td>2.140</td>\n",
              "      <td>1</td>\n",
              "    </tr>\n",
              "    <tr>\n",
              "      <th>16</th>\n",
              "      <td>30.4</td>\n",
              "      <td>4</td>\n",
              "      <td>1.615</td>\n",
              "      <td>1</td>\n",
              "    </tr>\n",
              "    <tr>\n",
              "      <th>17</th>\n",
              "      <td>15.8</td>\n",
              "      <td>8</td>\n",
              "      <td>3.520</td>\n",
              "      <td>0</td>\n",
              "    </tr>\n",
              "    <tr>\n",
              "      <th>18</th>\n",
              "      <td>19.7</td>\n",
              "      <td>6</td>\n",
              "      <td>2.770</td>\n",
              "      <td>1</td>\n",
              "    </tr>\n",
              "    <tr>\n",
              "      <th>19</th>\n",
              "      <td>15.0</td>\n",
              "      <td>8</td>\n",
              "      <td>3.780</td>\n",
              "      <td>0</td>\n",
              "    </tr>\n",
              "    <tr>\n",
              "      <th>20</th>\n",
              "      <td>21.4</td>\n",
              "      <td>4</td>\n",
              "      <td>2.780</td>\n",
              "      <td>1</td>\n",
              "    </tr>\n",
              "    <tr>\n",
              "      <th>21</th>\n",
              "      <td>18.1</td>\n",
              "      <td>6</td>\n",
              "      <td>3.150</td>\n",
              "      <td>0</td>\n",
              "    </tr>\n",
              "    <tr>\n",
              "      <th>22</th>\n",
              "      <td>11.4</td>\n",
              "      <td>8</td>\n",
              "      <td>5.424</td>\n",
              "      <td>0</td>\n",
              "    </tr>\n",
              "    <tr>\n",
              "      <th>23</th>\n",
              "      <td>18.7</td>\n",
              "      <td>8</td>\n",
              "      <td>3.840</td>\n",
              "      <td>0</td>\n",
              "    </tr>\n",
              "  </tbody>\n",
              "</table>\n",
              "</div>"
            ],
            "text/plain": [
              "     mpg  cyl     wt  am\n",
              "0   21.0    6  2.620   1\n",
              "1   21.0    6  2.875   1\n",
              "2   22.8    4  2.320   1\n",
              "3   21.4    6  3.215   0\n",
              "4   18.7    8  3.440   0\n",
              "5   18.1    6  3.460   0\n",
              "6   14.3    8  3.570   0\n",
              "7   24.4    4  3.190   0\n",
              "8   22.8    4  3.150   0\n",
              "9   19.2    6  3.440   0\n",
              "10  17.8    6  3.440   0\n",
              "11  16.4    8  4.070   0\n",
              "12  17.3    8  3.730   0\n",
              "13  15.2    8  3.780   0\n",
              "14  10.4    8  5.250   0\n",
              "15  26.0    4  2.140   1\n",
              "16  30.4    4  1.615   1\n",
              "17  15.8    8  3.520   0\n",
              "18  19.7    6  2.770   1\n",
              "19  15.0    8  3.780   0\n",
              "20  21.4    4  2.780   1\n",
              "21  18.1    6  3.150   0\n",
              "22  11.4    8  5.424   0\n",
              "23  18.7    8  3.840   0"
            ]
          },
          "execution_count": null,
          "metadata": {},
          "output_type": "execute_result"
        }
      ],
      "source": [
        "df"
      ]
    },
    {
      "cell_type": "markdown",
      "metadata": {
        "id": "NwxcO-KzCE6r"
      },
      "source": [
        "The statement \"the `mtcars` dataset does not contain the same types of variables as the penguins dataset\" is a little true and a little false. There are no variables that contain text values, BUT there are variables that it makes sense to consider categorical variables. In most situations, it makes sense to treat the values of categorical variables as text values instead of numeric values.\n",
        "\n",
        "Use the `astype()` method to convert the categorical variables of the `mtcars` (df) dataset to have text values in the code chunk below. We've done one for you!"
      ]
    },
    {
      "cell_type": "code",
      "execution_count": null,
      "metadata": {
        "id": "EmsJ2z6QCtYH"
      },
      "outputs": [],
      "source": [
        "df[\"am\"] = df[\"am\"].astype(str)\n",
        "\n",
        "# Convert the other variables below"
      ]
    },
    {
      "cell_type": "markdown",
      "metadata": {
        "id": "5CPc3XQsEOkS"
      },
      "source": [
        "If you print out your new dataset, is it clear that the variables have been converted to text values? If so, how can you tell?\n",
        "\n",
        "It should also be clear by how `plotnine` treats these variables.\n",
        "\n",
        "1. Create side-by-side boxplots of the `mpg` variable by the different values of the `am` variable. What happens if you convert the `am` variable back to float values and then try to create this same plot? Explain the differences between the two plots.\n",
        "\n",
        "2. Create overlaid histograms of the `hp` variable for the different values of the `cyl` variable. What happens if you convert the `cyl` variable back to float values and then try to create this same plot? Explain the differences between the two plots."
      ]
    },
    {
      "cell_type": "code",
      "execution_count": null,
      "metadata": {
        "id": "THEeMPRDDc9y"
      },
      "outputs": [
        {
          "data": {
            "image/png": "[encoded data removed]",
            "text/plain": [
              "<Figure size 600x400 with 1 Axes>"
            ]
          },
          "metadata": {},
          "output_type": "display_data"
        }
      ],
      "source": [
        "# Create plot for (1) here\n",
        "# ChatGPT contribution \n",
        "# Scatter: mpg vs weight, with a simple linear trend line\n",
        "x = df['wt']\n",
        "y = df['mpg']\n",
        "\n",
        "plt.figure(figsize=(6, 4))\n",
        "plt.scatter(x, y)  # raw points\n",
        "\n",
        "# simple linear fit (degree=1)\n",
        "coef = np.polyfit(x, y, 1)              # slope, intercept\n",
        "xx = np.linspace(x.min(), x.max(), 100)\n",
        "yy = coef[0] * xx + coef[1]\n",
        "plt.plot(xx, yy)\n",
        "\n",
        "plt.xlabel('Weight (1000 lbs)')\n",
        "plt.ylabel('MPG')\n",
        "plt.title('MPG vs Weight')\n",
        "plt.tight_layout()\n",
        "plt.show()"
      ]
    },
    {
      "cell_type": "code",
      "execution_count": null,
      "metadata": {
        "id": "Y6qca7yKFWqZ"
      },
      "outputs": [
        {
          "name": "stderr",
          "output_type": "stream",
          "text": [
            "<positron-console-cell-14>:16: MatplotlibDeprecationWarning: The 'labels' parameter of boxplot() has been renamed 'tick_labels' since Matplotlib 3.9; support for the old name will be dropped in 3.11.\n"
          ]
        },
        {
          "data": {
            "image/png": "[encoded data removed]",
            "text/plain": [
              "<Figure size 600x400 with 1 Axes>"
            ]
          },
          "metadata": {},
          "output_type": "display_data"
        }
      ],
      "source": [
        "# Create plot for (2) here\n",
        "# ChatGPT contribution \n",
        "# Robust boxplot of mpg by transmission (am: 0=auto, 1=manual).\n",
        "\n",
        "import matplotlib.pyplot as plt\n",
        "import pandas as pd\n",
        "\n",
        "# force numeric; coerce bad values to NaN \n",
        "am_num  = pd.to_numeric(df['am'],  errors='coerce')\n",
        "mpg_num = pd.to_numeric(df['mpg'], errors='coerce')\n",
        "\n",
        "auto_mpg   = mpg_num[am_num == 0].dropna().values\n",
        "manual_mpg = mpg_num[am_num == 1].dropna().values\n",
        "\n",
        "plt.figure(figsize=(6,4))\n",
        "plt.boxplot([auto_mpg, manual_mpg], labels=['Auto (0)', 'Manual (1)'])\n",
        "plt.ylabel('MPG')\n",
        "plt.title('MPG by Transmission (am)')\n",
        "plt.tight_layout()\n",
        "plt.show()"
      ]
    },
    {
      "cell_type": "markdown",
      "metadata": {
        "id": "sI9g0Br1Fbcp"
      },
      "source": [
        "Some of these variables, like the `cyl` variable, have numeric values that actually make sense as numbers (i.e. the number of cylinders in the engine). However, it doesn't make the most sense to \"do math\" with this type of variable (e.g. take averages and such) because there are so few different value this can take on AND they're an explicit choice made by the car manufacturer. So, it makes more sense to treat the `cyl` variable as a categorical variable despite it having numeric values.\n",
        "\n",
        "You will need to keep these kinds of nuances about data in mind as you work with an increasing variety and richness of data, and do more complex things with them.\n",
        "\n",
        "Choose 3 new `geometries` from the [data-to-viz website](https://www.data-to-viz.com/) for graphs that you'd like to explore using the `mtcars` dataset, and then create those graphs!"
      ]
    },
    {
      "cell_type": "code",
      "execution_count": null,
      "metadata": {
        "id": "ZxVdZRFgGn4R"
      },
      "outputs": [
        {
          "data": {
            "image/png": "[encoded data removed]",
            "text/plain": [
              "<Figure size 600x400 with 1 Axes>"
            ]
          },
          "metadata": {},
          "output_type": "display_data"
        },
        {
          "data": {
            "text/plain": [
              "cyl\n",
              "4    24.6\n",
              "6    19.5\n",
              "8    15.3\n",
              "Name: mpg, dtype: float64"
            ]
          },
          "execution_count": null,
          "metadata": {},
          "output_type": "execute_result"
        }
      ],
      "source": [
        "# Create plot with first new geometry here\n",
        "# ChatGPT contribution\n",
        "# Bar chart: mean mpg by cylinders.\n",
        "import matplotlib.pyplot as plt\n",
        "\n",
        "mean_by_cyl = df.groupby('cyl', as_index=True)['mpg'].mean().round(1)\n",
        "\n",
        "plt.figure(figsize=(6,4))\n",
        "plt.bar(mean_by_cyl.index.astype(str), mean_by_cyl.values)\n",
        "plt.xlabel('Cylinders')\n",
        "plt.ylabel('Mean MPG')\n",
        "plt.title('Mean MPG by Cylinders')\n",
        "plt.tight_layout()\n",
        "plt.show()\n",
        "\n",
        "# keep exact numbers in output \n",
        "mean_by_cyl"
      ]
    },
    {
      "cell_type": "code",
      "execution_count": null,
      "metadata": {
        "id": "kmOlGxZwGoC5"
      },
      "outputs": [
        {
          "data": {
            "image/png": "[encoded data removed]",
            "text/plain": [
              "<Figure size 600x400 with 1 Axes>"
            ]
          },
          "metadata": {},
          "output_type": "display_data"
        }
      ],
      "source": [
        "# Create plot with second new geometry here\n",
        "# ChatGPT contribution\n",
        "# Histogram of mpg.\n",
        "import matplotlib.pyplot as plt\n",
        "\n",
        "plt.figure(figsize=(6,4))\n",
        "plt.hist(df['mpg'], bins=8)  \n",
        "plt.xlabel('MPG')\n",
        "plt.ylabel('Count')\n",
        "plt.title('MPG Distribution (Histogram)')\n",
        "plt.tight_layout()\n",
        "plt.show()"
      ]
    },
    {
      "cell_type": "code",
      "execution_count": null,
      "metadata": {
        "id": "8CppN1zeGoKr"
      },
      "outputs": [
        {
          "name": "stderr",
          "output_type": "stream",
          "text": [
            "<positron-console-cell-8>:8: FutureWarning: Series.__getitem__ treating keys as positions is deprecated. In a future version, integer keys will always be treated as labels (consistent with DataFrame behavior). To access a value by position, use `ser.iloc[pos]`\n"
          ]
        },
        {
          "data": {
            "image/png": "[encoded data removed]",
            "text/plain": [
              "<Figure size 600x400 with 1 Axes>"
            ]
          },
          "metadata": {},
          "output_type": "display_data"
        },
        {
          "data": {
            "text/plain": [
              "am\n",
              "0    17.4\n",
              "1    23.2\n",
              "Name: mpg, dtype: float64"
            ]
          },
          "execution_count": null,
          "metadata": {},
          "output_type": "execute_result"
        }
      ],
      "source": [
        "# Create plot with third new geometry here\n",
        "# ChatGPT contribution \n",
        "# Bar chart: mean mpg by transmission (am).\n",
        "import matplotlib.pyplot as plt\n",
        "\n",
        "mean_by_am = df.groupby('am', as_index=True)['mpg'].mean().round(1)\n",
        "labels = ['Auto (0)', 'Manual (1)']\n",
        "values = [mean_by_am.get(0, float('nan')), mean_by_am.get(1, float('nan'))]\n",
        "\n",
        "plt.figure(figsize=(6,4))\n",
        "plt.bar(labels, values)\n",
        "plt.ylabel('Mean MPG')\n",
        "plt.title('Mean MPG by Transmission (am)')\n",
        "plt.tight_layout()\n",
        "plt.show()\n",
        "\n",
        "# show values \n",
        "mean_by_am"
      ]
    }
  ],
  "metadata": {
    "colab": {
      "provenance": []
    },
    "kernelspec": {
      "display_name": "Python 3",
      "name": "python3"
    },
    "language_info": {
      "name": "python"
    }
  },
  "nbformat": 4,
  "nbformat_minor": 0
}
