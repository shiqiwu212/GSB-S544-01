{
  "cells": [
    {
      "cell_type": "markdown",
      "metadata": {},
      "source": [
        "---\n",
        "title: \"Titanic Wrangling\"\n",
        "format:\n",
        "  html:\n",
        "    self-contained: true\n",
        "---"
      ]
    },
    {
      "cell_type": "markdown",
      "metadata": {},
      "source": [
        "In this practice activity you'll continue to work with the titanic dataset in ways that flex what you've learned about both data wrangling and data visualization."
      ]
    },
    {
      "cell_type": "markdown",
      "metadata": {},
      "source": [
        "### Repository\n",
        "- GitHub (Code & HTML): [Week 2 folder](https://github.com/shiqiwu212/GSB-S54401/tree/325afb6f426727d44067cc02c3b00a85f1fa1d64/Week%202)"
      ]
    },
    {
      "cell_type": "code",
      "execution_count": 1,
      "metadata": {
        "id": "Nr6w8bVCf_NM"
      },
      "outputs": [],
      "source": [
        "# Import the titanic dataset here\n",
        "import numpy as np\n",
        "import pandas as pd"
      ]
    },
    {
      "cell_type": "code",
      "execution_count": 2,
      "metadata": {},
      "outputs": [],
      "source": [
        "# AI assistance: ChatGPT helped configure my conda environment (certificates) so pandas can load the Titanic CSV via HTTPS.\n",
        "data_dir = \"https://dlsun.github.io/pods/data/\"\n",
        "url = data_dir + \"titanic.csv\""
      ]
    },
    {
      "cell_type": "code",
      "execution_count": 3,
      "metadata": {},
      "outputs": [
        {
          "data": {
            "text/html": [
              "<div>\n",
              "<style scoped>\n",
              "    .dataframe tbody tr th:only-of-type {\n",
              "        vertical-align: middle;\n",
              "    }\n",
              "\n",
              "    .dataframe tbody tr th {\n",
              "        vertical-align: top;\n",
              "    }\n",
              "\n",
              "    .dataframe thead th {\n",
              "        text-align: right;\n",
              "    }\n",
              "</style>\n",
              "<table border=\"1\" class=\"dataframe\">\n",
              "  <thead>\n",
              "    <tr style=\"text-align: right;\">\n",
              "      <th></th>\n",
              "      <th>name</th>\n",
              "      <th>gender</th>\n",
              "      <th>age</th>\n",
              "      <th>class</th>\n",
              "      <th>embarked</th>\n",
              "      <th>country</th>\n",
              "      <th>ticketno</th>\n",
              "      <th>fare</th>\n",
              "      <th>survived</th>\n",
              "    </tr>\n",
              "  </thead>\n",
              "  <tbody>\n",
              "    <tr>\n",
              "      <th>0</th>\n",
              "      <td>Abbing, Mr. Anthony</td>\n",
              "      <td>male</td>\n",
              "      <td>42.0</td>\n",
              "      <td>3rd</td>\n",
              "      <td>S</td>\n",
              "      <td>United States</td>\n",
              "      <td>5547.0</td>\n",
              "      <td>7.11</td>\n",
              "      <td>0</td>\n",
              "    </tr>\n",
              "    <tr>\n",
              "      <th>1</th>\n",
              "      <td>Abbott, Mr. Eugene Joseph</td>\n",
              "      <td>male</td>\n",
              "      <td>13.0</td>\n",
              "      <td>3rd</td>\n",
              "      <td>S</td>\n",
              "      <td>United States</td>\n",
              "      <td>2673.0</td>\n",
              "      <td>20.05</td>\n",
              "      <td>0</td>\n",
              "    </tr>\n",
              "    <tr>\n",
              "      <th>2</th>\n",
              "      <td>Abbott, Mr. Rossmore Edward</td>\n",
              "      <td>male</td>\n",
              "      <td>16.0</td>\n",
              "      <td>3rd</td>\n",
              "      <td>S</td>\n",
              "      <td>United States</td>\n",
              "      <td>2673.0</td>\n",
              "      <td>20.05</td>\n",
              "      <td>0</td>\n",
              "    </tr>\n",
              "    <tr>\n",
              "      <th>3</th>\n",
              "      <td>Abbott, Mrs. Rhoda Mary 'Rosa'</td>\n",
              "      <td>female</td>\n",
              "      <td>39.0</td>\n",
              "      <td>3rd</td>\n",
              "      <td>S</td>\n",
              "      <td>England</td>\n",
              "      <td>2673.0</td>\n",
              "      <td>20.05</td>\n",
              "      <td>1</td>\n",
              "    </tr>\n",
              "    <tr>\n",
              "      <th>4</th>\n",
              "      <td>Abelseth, Miss. Karen Marie</td>\n",
              "      <td>female</td>\n",
              "      <td>16.0</td>\n",
              "      <td>3rd</td>\n",
              "      <td>S</td>\n",
              "      <td>Norway</td>\n",
              "      <td>348125.0</td>\n",
              "      <td>7.13</td>\n",
              "      <td>1</td>\n",
              "    </tr>\n",
              "  </tbody>\n",
              "</table>\n",
              "</div>"
            ],
            "text/plain": [
              "                             name  gender   age class embarked        country  \\\n",
              "0             Abbing, Mr. Anthony    male  42.0   3rd        S  United States   \n",
              "1       Abbott, Mr. Eugene Joseph    male  13.0   3rd        S  United States   \n",
              "2     Abbott, Mr. Rossmore Edward    male  16.0   3rd        S  United States   \n",
              "3  Abbott, Mrs. Rhoda Mary 'Rosa'  female  39.0   3rd        S        England   \n",
              "4     Abelseth, Miss. Karen Marie  female  16.0   3rd        S         Norway   \n",
              "\n",
              "   ticketno   fare  survived  \n",
              "0    5547.0   7.11         0  \n",
              "1    2673.0  20.05         0  \n",
              "2    2673.0  20.05         0  \n",
              "3    2673.0  20.05         1  \n",
              "4  348125.0   7.13         1  "
            ]
          },
          "execution_count": null,
          "metadata": {},
          "output_type": "execute_result"
        }
      ],
      "source": [
        "# AI assistance:\n",
        "# - Provided a robust HTTPS loader so pandas can read even when system certs fail in Positron.\n",
        "# - Kept the variable name `df_titanic` unchanged so later cells run without edits.\n",
        "# - Tried pandas → urllib+certifi → requests+certifi as fallbacks.\n",
        "\n",
        "import pandas as pd, io, ssl, certifi, urllib.request, requests\n",
        "\n",
        "url = \"https://dlsun.github.io/pods/data/titanic.csv\"\n",
        "\n",
        "try:\n",
        "    # 1) normal path\n",
        "    df_titanic = pd.read_csv(url)\n",
        "except Exception:\n",
        "    try:\n",
        "        # 2) urllib with explicit cert bundle\n",
        "        ctx = ssl.create_default_context(cafile=certifi.where())\n",
        "        with urllib.request.urlopen(url, context=ctx) as f:\n",
        "            df_titanic = pd.read_csv(f)\n",
        "    except Exception:\n",
        "        # 3) requests with certifi\n",
        "        r = requests.get(url, timeout=60, verify=certifi.where())\n",
        "        r.raise_for_status()\n",
        "        df_titanic = pd.read_csv(io.BytesIO(r.content))\n",
        "\n",
        "# keep HTML output compact\n",
        "df_titanic.head()"
      ]
    },
    {
      "cell_type": "markdown",
      "metadata": {
        "id": "9UgZD6VFYa96"
      },
      "source": [
        "## 1. Filter the data to include passengers only. Calculate the joint distribution (cross-tab) between a passenger's class and where they embarked."
      ]
    },
    {
      "cell_type": "code",
      "execution_count": 4,
      "metadata": {
        "id": "TBthOzDLgBif"
      },
      "outputs": [
        {
          "data": {
            "text/plain": [
              "(Embarked            B  Cherbourg  Queenstown  Southampton\n",
              " Class                                                    \n",
              " 1st                 3        143           3          175\n",
              " 2nd                 6         26           7          245\n",
              " 3rd                 0        102         113          494\n",
              " deck crew          23          0           0           43\n",
              " engineering crew   43          0           0          281\n",
              " restaurant staff    0          0           0           69\n",
              " victualling crew  122          0           0          309,\n",
              " Embarked              B  Cherbourg  Queenstown  Southampton\n",
              " Class                                                      \n",
              " 1st               0.009      0.441       0.009        0.540\n",
              " 2nd               0.021      0.092       0.025        0.863\n",
              " 3rd               0.000      0.144       0.159        0.697\n",
              " deck crew         0.348      0.000       0.000        0.652\n",
              " engineering crew  0.133      0.000       0.000        0.867\n",
              " restaurant staff  0.000      0.000       0.000        1.000\n",
              " victualling crew  0.283      0.000       0.000        0.717)"
            ]
          },
          "execution_count": null,
          "metadata": {},
          "output_type": "execute_result"
        }
      ],
      "source": [
        "# AI assistance:\n",
        "# - Confirmed approach: use pd.crosstab for counts and row-normalized proportions to build the joint distribution.\n",
        "# - Made the code schema-robust by auto-picking column names (e.g., 'pclass' vs 'class'; 'embarked' vs 'embark_town').\n",
        "# - Suggested mapping single-letter ports (C/Q/S) to full names and keeping NaN as 'Unknown' for transparency.\n",
        "\n",
        "import pandas as pd\n",
        "\n",
        "# 1) If crew exists, keep passengers only.\n",
        "df_passengers = df_titanic.copy()\n",
        "# If your file truly has a 'type' or 'role' column, you could filter like:\n",
        "# df_passengers = df_titanic[df_titanic['type'].str.lower() == 'passenger']\n",
        "# df_passengers = df_titanic[df_titanic['role'].str.lower() == 'passenger']\n",
        "\n",
        "# 2) Column pickers to tolerate different schemas.\n",
        "def pick_column(df, options):\n",
        "    for c in df.columns:\n",
        "        if c.lower() in options:\n",
        "            return c\n",
        "    raise KeyError(f\"None of {options} found in columns: {list(df.columns)}\")\n",
        "\n",
        "CLASS_COL  = pick_column(df_passengers, {'pclass', 'class'})\n",
        "EMBARK_COL = pick_column(df_passengers, {'embarked', 'embark_town', 'port_of_embarkation'})\n",
        "\n",
        "# 3) Normalize embark labels (map C/Q/S to full names when applicable).\n",
        "def normalize_embark(s):\n",
        "    mapping = {'c': 'Cherbourg', 'q': 'Queenstown', 's': 'Southampton'}\n",
        "    return s.astype(str).str.strip().str.lower().map(mapping).fillna(s)\n",
        "\n",
        "embark_norm = normalize_embark(df_passengers[EMBARK_COL]).fillna('Unknown')\n",
        "\n",
        "# 4) Joint distribution: counts and row-wise proportions P(Embarked | Class).\n",
        "ct_counts = pd.crosstab(index=df_passengers[CLASS_COL], columns=embark_norm)\\\n",
        "            .rename_axis(index='Class', columns='Embarked')\n",
        "\n",
        "ct_rowpct = pd.crosstab(index=df_passengers[CLASS_COL], columns=embark_norm, normalize='index')\\\n",
        "            .round(3).rename_axis(index='Class', columns='Embarked')\n",
        "            \n",
        "# display both\n",
        "ct_counts, ct_rowpct  "
      ]
    },
    {
      "cell_type": "markdown",
      "metadata": {
        "id": "3CRaJLSyYm4d"
      },
      "source": [
        "## 2. Using the joint distribution that calculated above, calculate the following:\n",
        "\n",
        "* the conditional distribution of their class given where they embarked\n",
        "* the conditional distribution of where they embarked given their class\n",
        "\n",
        "Use the conditional distributions that you calculate to answer the following quesitons:\n",
        "\n",
        "* What proportion of 3rd class passengers embarked at Southampton?\n",
        "* What proportion of Southampton passengers were in 3rd class?"
      ]
    },
    {
      "cell_type": "code",
      "execution_count": 5,
      "metadata": {
        "id": "TfTGidLIv1k0"
      },
      "outputs": [
        {
          "name": "stdout",
          "output_type": "stream",
          "text": [
            "P(Embarked = Southampton | Class = 3rd) = 0.697\n",
            "P(Class = 3rd | Embarked = Southampton) = 0.306\n"
          ]
        }
      ],
      "source": [
        "# AI assistance:\n",
        "# - Clarified which conditionals are needed: P(Embarked=Southampton | Class=3rd) vs P(Class=3rd | Embarked=Southampton).\n",
        "# - Recommended computing both row-normalized and column-normalized crosstabs to read off the two probabilities cleanly.\n",
        "# - Added tiny helper functions to resolve labels ('3rd'/'Third'/'3' and 'Southampton'/'S') to avoid brittle hard-coding.\n",
        "\n",
        "import pandas as pd\n",
        "import numpy as np\n",
        "\n",
        "# Reuse schema-robust selection and embark normalization.\n",
        "def pick_column(df, options):\n",
        "    for c in df.columns:\n",
        "        if c.lower() in options:\n",
        "            return c\n",
        "    raise KeyError(f\"None of {options} found in columns: {list(df.columns)}\")\n",
        "\n",
        "def normalize_embark(s):\n",
        "    mapping = {'c': 'Cherbourg', 'q': 'Queenstown', 's': 'Southampton'}\n",
        "    return s.astype(str).str.strip().str.lower().map(mapping).fillna(s)\n",
        "\n",
        "df_passengers = df_titanic.copy()\n",
        "CLASS_COL  = pick_column(df_passengers, {'pclass', 'class'})\n",
        "EMBARK_COL = pick_column(df_passengers, {'embarked', 'embark_town', 'port_of_embarkation'})\n",
        "embark_norm = normalize_embark(df_passengers[EMBARK_COL]).fillna('Unknown')\n",
        "\n",
        "# Crosstabs for both directions\n",
        "ct_rowpct = pd.crosstab(index=df_passengers[CLASS_COL], columns=embark_norm, normalize='index')\\\n",
        "            .round(3).rename_axis(index='Class', columns='Embarked')\n",
        "ct_colpct = pd.crosstab(index=df_passengers[CLASS_COL], columns=embark_norm, normalize='columns')\\\n",
        "            .round(3).rename_axis(index='Class', columns='Embarked')\n",
        "\n",
        "# Helpers to find consistent labels\n",
        "def find_third_label(index_like):\n",
        "    labels = [str(x).lower() for x in index_like]\n",
        "    for orig, lbl in zip(index_like, labels):\n",
        "        if lbl.strip() in {'3', '3.0'}:\n",
        "            return orig\n",
        "    for orig, lbl in zip(index_like, labels):\n",
        "        if 'third' in lbl or '3rd' in lbl:\n",
        "            return orig\n",
        "    # fallback: take the max numeric-like class\n",
        "    try:\n",
        "        return max(index_like)\n",
        "    except Exception:\n",
        "        return list(index_like)[-1]\n",
        "\n",
        "def find_southampton_label(columns_like):\n",
        "    for col in columns_like:\n",
        "        if str(col).strip().lower() in {'southampton', 's'}:\n",
        "            return col\n",
        "    for col in columns_like:\n",
        "        if 'south' in str(col).strip().lower():\n",
        "            return col\n",
        "    raise KeyError(\"Could not find Southampton in embarked columns.\")\n",
        "\n",
        "third_label = find_third_label(ct_rowpct.index)\n",
        "south_col   = find_southampton_label(ct_rowpct.columns)\n",
        "\n",
        "# 1) P(Embarked = Southampton | Class = 3rd) -- row-normalized table\n",
        "prop_S_given_3rd = float(ct_rowpct.loc[third_label, south_col])\n",
        "\n",
        "# 2) P(Class = 3rd | Embarked = Southampton) -- column-normalized table\n",
        "prop_3rd_given_S = float(ct_colpct.loc[third_label, south_col])\n",
        "\n",
        "print(f\"P(Embarked = Southampton | Class = 3rd) = {prop_S_given_3rd:.3f}\")\n",
        "print(f\"P(Class = 3rd | Embarked = Southampton) = {prop_3rd_given_S:.3f}\")"
      ]
    },
    {
      "cell_type": "markdown",
      "metadata": {
        "id": "pGUQeeh1ZRfz"
      },
      "source": [
        "## 3. Make a visualization showing the distribution of a passenger's class, given where they embarked.\n",
        "\n",
        "Discuss the pros and cons of using this visualization versus the distributions you calculated before, to answer the previous questions."
      ]
    },
    {
      "cell_type": "code",
      "execution_count": 6,
      "metadata": {},
      "outputs": [
        {
          "data": {
            "image/png": "[encoded data removed]",
            "text/plain": [
              "<IPython.core.display.Image object>"
            ]
          },
          "metadata": {},
          "output_type": "display_data"
        }
      ],
      "source": [
        "# AI assistance:\n",
        "# - Normalized class/embarked labels and filtered to passenger classes only (1st/2nd/3rd).\n",
        "# - Built a column-normalized crosstab P(Class | Embarked) and kept only C/Q/S for consistency.\n",
        "# - Saved the figure and displayed exactly once (close the live figure to avoid duplicate plots).\n",
        "\n",
        "import pandas as pd\n",
        "import matplotlib.pyplot as plt\n",
        "from IPython.display import Image, display\n",
        "\n",
        "# Guard: ensure the dataset is loaded\n",
        "if 'df_titanic' not in globals():\n",
        "    raise NameError(\"Run the data-loading cell first to create `df_titanic`.\")\n",
        "\n",
        "df0 = df_titanic.copy()\n",
        "\n",
        "# -------- helpers (schema/label robust) --------\n",
        "def pick_column(df, options):\n",
        "    opts = {o.lower() for o in options}\n",
        "    for c in df.columns:\n",
        "        if c.lower() in opts:\n",
        "            return c\n",
        "    raise KeyError(f\"None of {options} found in columns: {list(df.columns)}\")\n",
        "\n",
        "def normalize_class(s):\n",
        "    x = s.astype(str).str.strip().str.lower()\n",
        "    mapping = {\n",
        "        '1':'1st','1.0':'1st','first':'1st','1st':'1st',\n",
        "        '2':'2nd','2.0':'2nd','second':'2nd','2nd':'2nd',\n",
        "        '3':'3rd','3.0':'3rd','third':'3rd','3rd':'3rd'\n",
        "    }\n",
        "    return x.map(mapping)\n",
        "\n",
        "def normalize_embark(s):\n",
        "    x = s.astype(str).str.strip().str.lower()\n",
        "    # short codes → lowercase full names\n",
        "    short = {'c':'cherbourg','q':'queenstown','s':'southampton','b':'belfast'}\n",
        "    y = x.replace(short)\n",
        "    # tidy to title case (e.g., 'southampton' → 'Southampton')\n",
        "    y = y.str.title()\n",
        "    return y.fillna('Unknown')\n",
        "\n",
        "# columns that exist in your file\n",
        "CLASS_COL  = pick_column(df0, {'class','pclass'})\n",
        "EMBARK_COL = pick_column(df0, {'embarked','embark_town','port_of_embarkation'})\n",
        "\n",
        "# -------- keep passengers only: 1st/2nd/3rd --------\n",
        "class_all = normalize_class(df0[CLASS_COL])\n",
        "passenger_mask = class_all.isin({'1st','2nd','3rd'})\n",
        "dfp = df0.loc[passenger_mask].copy()\n",
        "\n",
        "# normalized labels used for the crosstab\n",
        "class_norm  = normalize_class(dfp[CLASS_COL])\n",
        "embark_norm = normalize_embark(dfp[EMBARK_COL])\n",
        "\n",
        "# -------- column-normalized crosstab: P(Class | Embarked) --------\n",
        "ct_colpct = pd.crosstab(index=class_norm, columns=embark_norm, normalize='columns') \\\n",
        "              .rename_axis(index='Class', columns='Embarked').round(3)\n",
        "\n",
        "# keep only the three passenger ports (C/Q/S) and enforce class order\n",
        "wanted_ports = ['Cherbourg','Queenstown','Southampton']\n",
        "keep_cols = [c for c in wanted_ports if c in ct_colpct.columns]\n",
        "ct_plot = ct_colpct.reindex(index=['1st','2nd','3rd'])\n",
        "if keep_cols:\n",
        "    ct_plot = ct_plot[keep_cols]\n",
        "\n",
        "# -------- plot once (save+display, no duplicate) --------\n",
        "fig, ax = plt.subplots(figsize=(8,5))\n",
        "ct_plot.T.plot(kind='bar', stacked=True, edgecolor='black', ax=ax)\n",
        "ax.set_xlabel(\"Embarked\")\n",
        "ax.set_ylabel(\"Proportion (Class | Embarked)\")\n",
        "ax.set_title(\"Distribution of Passenger Class Given Embarked\")\n",
        "ax.legend(title=\"Class\", bbox_to_anchor=(1.02, 1), loc=\"upper left\")\n",
        "fig.tight_layout()\n",
        "\n",
        "figpath = \"task3_class_given_embarked.png\"\n",
        "fig.savefig(figpath, dpi=150, bbox_inches=\"tight\")\n",
        "plt.close(fig)              # important: close live figure to avoid a second, auto-rendered plot\n",
        "display(Image(filename=figpath))   "
      ]
    }
  ],
  "metadata": {
    "colab": {
      "provenance": []
    },
    "kernelspec": {
      "display_name": "Python 3",
      "name": "python3"
    },
    "language_info": {
      "name": "python"
    }
  },
  "nbformat": 4,
  "nbformat_minor": 0
}
