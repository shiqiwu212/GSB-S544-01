{
  "cells": [
    {
      "cell_type": "markdown",
      "metadata": {},
      "source": [
        "---\n",
        "title: \"Practice Activity 4.2 — Decode a Message\"\n",
        "author: \"Shiqi Wu\"\n",
        "format:\n",
        "  html:\n",
        "    self-contained: true   \n",
        "    toc: false\n",
        "    code-fold: false\n",
        "jupyter: python3\n",
        "execute: false             \n",
        "---\n",
        "\n",
        "**Repository (Week 4 – Activity 4.2):**  [Week 4](https://github.com/shiqiwu212/GSB-S544-01/tree/db6617047c467143db543c1723fd0a22cbff2df4/Week%204/Practice%20Activities/Practice%20Activity%204.2)  "
      ]
    },
    {
      "cell_type": "markdown",
      "metadata": {
        "id": "kPj76X_FP2uq"
      },
      "source": [
        "## Setup\n",
        "\n",
        "Run the code below to load the scrambled message:\n"
      ]
    },
    {
      "cell_type": "code",
      "execution_count": 44,
      "metadata": {
        "id": "YwkYMR2qP2ur"
      },
      "outputs": [],
      "source": [
        "import pandas as pd\n",
        "\n",
        "message = pd.read_csv(\"https://www.dropbox.com/s/lgpn3vmksk3ssdo/scrambled_message.txt?dl=1\")['Word']"
      ]
    },
    {
      "cell_type": "code",
      "execution_count": 45,
      "metadata": {
        "colab": {
          "base_uri": "https://localhost:8080/"
        },
        "id": "rqykaCOxF1Z9",
        "outputId": "78651d97-c46b-4c24-b5e9-f67ae6a0ea1c"
      },
      "outputs": [
        {
          "data": {
            "text/plain": [
              "0                    Koila!\n",
              "1                     In   \n",
              "2                     kiew,\n",
              "3                         a\n",
              "4                 humble   \n",
              "               ...         \n",
              "122                     you\n",
              "123                 mabugh.\n",
              "124              ughhh?call\n",
              "125        meugh.ughhhh!   \n",
              "126                      K.\n",
              "Name: Word, Length: 127, dtype: object"
            ]
          },
          "execution_count": null,
          "metadata": {},
          "output_type": "execute_result"
        }
      ],
      "source": [
        "message"
      ]
    },
    {
      "cell_type": "markdown",
      "metadata": {
        "id": "cI8ZE3LAP2us"
      },
      "source": [
        "In this activity, a \"word\" refers to any set of characters with no white space, even though they are not truly an English word.  That is, even though many of elements of the scrambled message vector are nonsense, and some have punctuation, you can consider each element to be a \"word\".\n",
        "\n",
        "Beware!  The object named `message` is a **pandas Series** of strings.  If you want to use functions that expect a string, rather than a series, remember `.apply()` and `lambda` functions.\n",
        "\n"
      ]
    },
    {
      "cell_type": "markdown",
      "metadata": {
        "id": "dYISAD8uQLAy"
      },
      "source": [
        "\n",
        "## Warm-up exercises\n",
        "\n",
        "1. How many characters are in the scrambled message?\n",
        "2. How many of these characters are white space?\n",
        "3. How many words are in the scrambled message?\n",
        "4. Show all the punctuation marks in the scrambled message.\n",
        "5. Print out, in all capitals, the longest word in the scrambled message.\n",
        "6. Print out every piece of a word that starts with the letter \"m\" and ends with the letter \"z\" in the scrambled message."
      ]
    },
    {
      "cell_type": "markdown",
      "metadata": {},
      "source": [
        "## 1. How many characters are in the scrambled message?"
      ]
    },
    {
      "cell_type": "code",
      "execution_count": 46,
      "metadata": {},
      "outputs": [
        {
          "data": {
            "text/plain": [
              "np.int64(2544)"
            ]
          },
          "execution_count": null,
          "metadata": {},
          "output_type": "execute_result"
        }
      ],
      "source": [
        "total_chars = message.str.len().sum()\n",
        "total_chars"
      ]
    },
    {
      "cell_type": "markdown",
      "metadata": {},
      "source": [
        "## 2. How many of these characters are white space?"
      ]
    },
    {
      "cell_type": "code",
      "execution_count": 47,
      "metadata": {},
      "outputs": [
        {
          "data": {
            "text/plain": [
              "np.int64(1652)"
            ]
          },
          "execution_count": null,
          "metadata": {},
          "output_type": "execute_result"
        }
      ],
      "source": [
        "whitespace_chars = message.str.count(r\"\\s\").sum()\n",
        "whitespace_chars"
      ]
    },
    {
      "cell_type": "markdown",
      "metadata": {},
      "source": [
        "## 3. How many words are in the scrambled message?"
      ]
    },
    {
      "cell_type": "code",
      "execution_count": 48,
      "metadata": {},
      "outputs": [
        {
          "data": {
            "text/plain": [
              "127"
            ]
          },
          "execution_count": null,
          "metadata": {},
          "output_type": "execute_result"
        }
      ],
      "source": [
        "num_words = len(message)\n",
        "num_words"
      ]
    },
    {
      "cell_type": "markdown",
      "metadata": {},
      "source": [
        "## 4. Show all the punctuation marks in the scrambled message."
      ]
    },
    {
      "cell_type": "code",
      "execution_count": 49,
      "metadata": {},
      "outputs": [
        {
          "data": {
            "text/plain": [
              "['!', ',', '.', ';', '?']"
            ]
          },
          "execution_count": null,
          "metadata": {},
          "output_type": "execute_result"
        }
      ],
      "source": [
        "# AI assistance for this step:\n",
        "# - Extract all non-word, non-space chars and list unique punctuation marks (sorted for readability).\n",
        "\n",
        "puncts = (\n",
        "    message.str.findall(r\"[^\\w\\s]\")\n",
        "           .explode()\n",
        "           .dropna()\n",
        "           .unique()\n",
        ")\n",
        "sorted(list(puncts))"
      ]
    },
    {
      "cell_type": "markdown",
      "metadata": {},
      "source": [
        "## 5. Print out, in all capitals, the longest word in the scrambled message."
      ]
    },
    {
      "cell_type": "code",
      "execution_count": 50,
      "metadata": {},
      "outputs": [
        {
          "data": {
            "text/plain": [
              "'KAUDEVILLIANUGH?AOGHAJDBN'"
            ]
          },
          "execution_count": null,
          "metadata": {},
          "output_type": "execute_result"
        }
      ],
      "source": [
        "# AI assistance for this step:\n",
        "# - Locate the index of the max length token and uppercase it.\n",
        "\n",
        "longest_idx = message.str.len().idxmax()\n",
        "longest_word_upper = str(message.iloc[longest_idx]).upper()\n",
        "longest_word_upper"
      ]
    },
    {
      "cell_type": "markdown",
      "metadata": {},
      "source": [
        "## 6. Print out every piece of a word that starts with the letter \"m\" and ends with the letter \"z\" in the scrambled message."
      ]
    },
    {
      "cell_type": "code",
      "execution_count": 51,
      "metadata": {},
      "outputs": [
        {
          "data": {
            "text/plain": [
              "['maaz']"
            ]
          },
          "execution_count": null,
          "metadata": {},
          "output_type": "execute_result"
        }
      ],
      "source": [
        "# AI assistance for this step:\n",
        "# - Find all substrings matching word-boundary m...z using a case-insensitive regex.\n",
        "\n",
        "import re\n",
        "\n",
        "pieces_m_to_z = (\n",
        "    message.apply(lambda s: re.findall(r\"\\bm\\w*?z\\b\", str(s), flags=re.I))\n",
        "           .explode()\n",
        "           .dropna()\n",
        "           .unique()\n",
        ")\n",
        "list(pieces_m_to_z)"
      ]
    },
    {
      "cell_type": "markdown",
      "metadata": {
        "id": "l3iJnnCJQOh7"
      },
      "source": [
        "\n",
        "\n",
        "## Decode a message\n",
        "\n",
        "Complete the following steps to decode the message.  \n",
        "\n",
        "1. Remove any spaces before or after each word.\n",
        "2. Any time you see the word \"ugh\", with any number of h's, followed by a punctuation mark, delete this.\n",
        "3. No word should be longer than 16 characters. Drop all extra characters beyond 13 off the end of each word.\n",
        "4. Replace all instances of exactly 2 a's with exactly 2 e's.\n",
        "5. Replace all z's with t's.\n",
        "6. Every word that ends in b, change that to a y.  *Hint: look out for punctuation!*\n",
        "7. Every word that starts with k, change that to a v.  *Hint: look out for capitalization!*\n",
        "8. Use `.join()` to recombine all your words into a message.\n",
        "9. Find the movie this quote is from."
      ]
    },
    {
      "cell_type": "markdown",
      "metadata": {},
      "source": [
        "## 1. Remove any spaces before or after each word."
      ]
    },
    {
      "cell_type": "code",
      "execution_count": 52,
      "metadata": {},
      "outputs": [],
      "source": [
        "words = message.astype(str).str.strip()"
      ]
    },
    {
      "cell_type": "markdown",
      "metadata": {},
      "source": [
        "## 2. Any time you see the word \"ugh\", with any number of h's, followed by a punctuation mark, delete this."
      ]
    },
    {
      "cell_type": "code",
      "execution_count": 64,
      "metadata": {},
      "outputs": [],
      "source": [
        "# AI assistance for this step:\n",
        "# - Remove 'ugh' with any number of h's followed by a punctuation mark ANYWHERE inside the token.\n",
        "\n",
        "import re, string\n",
        "\n",
        "pattern_ugh_anywhere = re.compile(r\"ugh+[\" + re.escape(string.punctuation) + r\"]\", flags=re.I)\n",
        "words = words.apply(lambda w: pattern_ugh_anywhere.sub(\"\", w))"
      ]
    },
    {
      "cell_type": "markdown",
      "metadata": {},
      "source": [
        "## 3. No word should be longer than 16 characters. Drop all extra characters beyond 13 off the end of each word."
      ]
    },
    {
      "cell_type": "code",
      "execution_count": 54,
      "metadata": {},
      "outputs": [],
      "source": [
        "# AI assistance for this step:\n",
        "# - Truncate only if length > 16; then keep the first 13 characters.\n",
        "\n",
        "MAX_FLAG = 16\n",
        "TRUNC_TO = 13\n",
        "\n",
        "def _truncate_rule(w: str) -> str:\n",
        "    w = str(w)\n",
        "    return w[:TRUNC_TO] if len(w) > MAX_FLAG else w\n",
        "\n",
        "words = words.apply(_truncate_rule)"
      ]
    },
    {
      "cell_type": "markdown",
      "metadata": {},
      "source": [
        "## 4. Replace all instances of exactly 2 a's with exactly 2 e's."
      ]
    },
    {
      "cell_type": "code",
      "execution_count": 55,
      "metadata": {},
      "outputs": [],
      "source": [
        "exact_two_a = re.compile(r\"(?<!a)aa(?!a)\")\n",
        "words = words.apply(lambda w: exact_two_a.sub(\"ee\", w))"
      ]
    },
    {
      "cell_type": "markdown",
      "metadata": {},
      "source": [
        "## 5. Replace all z's with t's."
      ]
    },
    {
      "cell_type": "code",
      "execution_count": 56,
      "metadata": {},
      "outputs": [],
      "source": [
        "words = words.str.replace(\"z\", \"t\", regex=False).str.replace(\"Z\", \"T\", regex=False)"
      ]
    },
    {
      "cell_type": "markdown",
      "metadata": {},
      "source": [
        "## 6. Every word that ends in b, change that to a y. Hint: look out for punctuation!"
      ]
    },
    {
      "cell_type": "code",
      "execution_count": 57,
      "metadata": {},
      "outputs": [],
      "source": [
        "# AI assistance for this step:\n",
        "# - Replace a trailing 'b' even if punctuation follows it (e.g., \"glorb,\" -> \"glory,\").\n",
        "\n",
        "end_b_to_y = re.compile(r\"b(?=[\" + re.escape(string.punctuation) + r\"]*$)\")\n",
        "words = words.apply(lambda w: end_b_to_y.sub(\"y\", w))"
      ]
    },
    {
      "cell_type": "markdown",
      "metadata": {},
      "source": [
        "## 7. Every word that starts with k, change that to a v. Hint: look out for capitalization!"
      ]
    },
    {
      "cell_type": "code",
      "execution_count": null,
      "metadata": {},
      "outputs": [],
      "source": [
        "# AI assistance for this step:\n",
        "# - Replace only the first letter k/K with v/V and KEEP the rest of the word (handle leading punctuation).\n",
        "\n",
        "import re, string\n",
        "\n",
        "# capture: leading punctuation, the first letter k/K, and the rest of the token\n",
        "start_k_keep_tail = re.compile(r\"^([\" + re.escape(string.punctuation) + r\"]*)([kK])(.*)$\")\n",
        "\n",
        "def k_to_v_keep_tail(w: str) -> str:\n",
        "    m = start_k_keep_tail.match(str(w))\n",
        "    if not m:\n",
        "        return str(w)\n",
        "    lead, letter, tail = m.groups()\n",
        "    return lead + (\"v\" if letter == \"k\" else \"V\") + tail\n",
        "\n",
        "words = words.apply(k_to_v_keep_tail)"
      ]
    },
    {
      "cell_type": "markdown",
      "metadata": {},
      "source": [
        "## 8. Use .join() to recombine all your words into a message."
      ]
    },
    {
      "cell_type": "code",
      "execution_count": 63,
      "metadata": {},
      "outputs": [],
      "source": [
        "decoded_message = \" \".join([w for w in words if str(w).strip() != \"\"]).strip()"
      ]
    },
    {
      "cell_type": "markdown",
      "metadata": {},
      "source": [
        "## 9. Find the movie this quote is from."
      ]
    },
    {
      "cell_type": "code",
      "execution_count": 65,
      "metadata": {},
      "outputs": [
        {
          "name": "stdout",
          "output_type": "stream",
          "text": [
            "Voila! In view, a humble vaudevilliana veteran, cast vicariously as both victim and villain by the vicissitudes of fate. This visage, no mere veneer of vanity, is a vestige of the vox populi now vacant, vanished. However, this valorous visitation of a bygone vexation stands vivified, and has vowed to vanquish these venal and virulent vermin, van guarding vice and vouchsafing the violently vicious and voracious violation of volition. The only verdict is vengeance; a vendetta, held as a votive not in vain, for the value and veracity of such shall one day vindicate the vigilant and the virtuous. Verily this vichyssoise of verbiage veers most verbose, so let me simply add that its my very good honour to meet you and you may call me V.\n"
          ]
        }
      ],
      "source": [
        "# Movie: V for Vendetta\n",
        "print(decoded_message)"
      ]
    }
  ],
  "metadata": {
    "colab": {
      "provenance": []
    },
    "kernelspec": {
      "display_name": "Python 3",
      "language": "python",
      "name": "python3"
    },
    "language_info": {
      "name": "python"
    }
  },
  "nbformat": 4,
  "nbformat_minor": 0
}
