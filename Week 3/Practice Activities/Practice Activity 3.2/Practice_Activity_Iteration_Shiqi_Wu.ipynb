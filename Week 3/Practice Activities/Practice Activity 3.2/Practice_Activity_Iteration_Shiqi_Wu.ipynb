{
  "cells": [
    {
      "cell_type": "markdown",
      "metadata": {},
      "source": [
        "---\n",
        "title: \"PA 3.2 — Iteration (Shiqi Wu)\"\n",
        "format:\n",
        "  html:\n",
        "    self-contained: true\n",
        "    toc: false\n",
        "    code-fold: false\n",
        "jupyter: python3\n",
        "---\n",
        "\n",
        "**Repository:** [GitHub – PA 3.2](https://github.com/shiqiwu212/GSB-S544-01/tree/55e919efa93cf5f0a1cd7f1ee7d32ce049b2fd16/Week%203/Practice%20Activities/Practice%20Activity%203.2)"
      ]
    },
    {
      "cell_type": "markdown",
      "metadata": {
        "id": "8p1mF9p_njvq"
      },
      "source": [
        "0. Load the `penguins` dataset from the `palmerpenguins` library, as well as any other libraries you need.\n",
        "\n"
      ]
    },
    {
      "cell_type": "code",
      "execution_count": 5,
      "metadata": {
        "colab": {
          "base_uri": "https://localhost:8080/",
          "height": 242
        },
        "id": "B0wyLoBRngwh",
        "outputId": "af47e1b8-6989-4e80-e97b-7bfa19146352"
      },
      "outputs": [
        {
          "name": "stdout",
          "output_type": "stream",
          "text": [
            "Note: you may need to restart the kernel to use updated packages.\n",
            "penguins shape: (344, 8)\n",
            "columns: ['species', 'island', 'bill_length_mm', 'bill_depth_mm', 'flipper_length_mm', 'body_mass_g', 'sex', 'year']\n"
          ]
        },
        {
          "data": {
            "text/html": [
              "<div>\n",
              "<style scoped>\n",
              "    .dataframe tbody tr th:only-of-type {\n",
              "        vertical-align: middle;\n",
              "    }\n",
              "\n",
              "    .dataframe tbody tr th {\n",
              "        vertical-align: top;\n",
              "    }\n",
              "\n",
              "    .dataframe thead th {\n",
              "        text-align: right;\n",
              "    }\n",
              "</style>\n",
              "<table border=\"1\" class=\"dataframe\">\n",
              "  <thead>\n",
              "    <tr style=\"text-align: right;\">\n",
              "      <th></th>\n",
              "      <th>species</th>\n",
              "      <th>island</th>\n",
              "      <th>bill_length_mm</th>\n",
              "      <th>bill_depth_mm</th>\n",
              "      <th>flipper_length_mm</th>\n",
              "      <th>body_mass_g</th>\n",
              "      <th>sex</th>\n",
              "      <th>year</th>\n",
              "    </tr>\n",
              "  </thead>\n",
              "  <tbody>\n",
              "    <tr>\n",
              "      <th>0</th>\n",
              "      <td>Adelie</td>\n",
              "      <td>Torgersen</td>\n",
              "      <td>39.1</td>\n",
              "      <td>18.7</td>\n",
              "      <td>181.0</td>\n",
              "      <td>3750.0</td>\n",
              "      <td>male</td>\n",
              "      <td>2007</td>\n",
              "    </tr>\n",
              "    <tr>\n",
              "      <th>1</th>\n",
              "      <td>Adelie</td>\n",
              "      <td>Torgersen</td>\n",
              "      <td>39.5</td>\n",
              "      <td>17.4</td>\n",
              "      <td>186.0</td>\n",
              "      <td>3800.0</td>\n",
              "      <td>female</td>\n",
              "      <td>2007</td>\n",
              "    </tr>\n",
              "    <tr>\n",
              "      <th>2</th>\n",
              "      <td>Adelie</td>\n",
              "      <td>Torgersen</td>\n",
              "      <td>40.3</td>\n",
              "      <td>18.0</td>\n",
              "      <td>195.0</td>\n",
              "      <td>3250.0</td>\n",
              "      <td>female</td>\n",
              "      <td>2007</td>\n",
              "    </tr>\n",
              "    <tr>\n",
              "      <th>3</th>\n",
              "      <td>Adelie</td>\n",
              "      <td>Torgersen</td>\n",
              "      <td>NaN</td>\n",
              "      <td>NaN</td>\n",
              "      <td>NaN</td>\n",
              "      <td>NaN</td>\n",
              "      <td>NaN</td>\n",
              "      <td>2007</td>\n",
              "    </tr>\n",
              "    <tr>\n",
              "      <th>4</th>\n",
              "      <td>Adelie</td>\n",
              "      <td>Torgersen</td>\n",
              "      <td>36.7</td>\n",
              "      <td>19.3</td>\n",
              "      <td>193.0</td>\n",
              "      <td>3450.0</td>\n",
              "      <td>female</td>\n",
              "      <td>2007</td>\n",
              "    </tr>\n",
              "  </tbody>\n",
              "</table>\n",
              "</div>"
            ],
            "text/plain": [
              "  species     island  bill_length_mm  bill_depth_mm  flipper_length_mm  \\\n",
              "0  Adelie  Torgersen            39.1           18.7              181.0   \n",
              "1  Adelie  Torgersen            39.5           17.4              186.0   \n",
              "2  Adelie  Torgersen            40.3           18.0              195.0   \n",
              "3  Adelie  Torgersen             NaN            NaN                NaN   \n",
              "4  Adelie  Torgersen            36.7           19.3              193.0   \n",
              "\n",
              "   body_mass_g     sex  year  \n",
              "0       3750.0    male  2007  \n",
              "1       3800.0  female  2007  \n",
              "2       3250.0  female  2007  \n",
              "3          NaN     NaN  2007  \n",
              "4       3450.0  female  2007  "
            ]
          },
          "execution_count": null,
          "metadata": {},
          "output_type": "execute_result"
        }
      ],
      "source": [
        "# This cell sets up the minimal environment for PA 3.2 and loads the penguins\n",
        "# dataset from the palmerpenguins package into a pandas DataFrame.\n",
        "# Install the dataset package\n",
        "%pip -q install palmerpenguins\n",
        "\n",
        "import numpy as np\n",
        "import pandas as pd\n",
        "from palmerpenguins import load_penguins\n",
        "\n",
        "# Load as a DataFrame\n",
        "penguins = load_penguins().copy()\n",
        "\n",
        "print(\"penguins shape:\", penguins.shape)\n",
        "print(\"columns:\", list(penguins.columns))\n",
        "penguins.head()"
      ]
    },
    {
      "cell_type": "markdown",
      "metadata": {
        "id": "LUURcsjcnrA3"
      },
      "source": [
        "1. Write a function that takes in information about a penguin, and returns one of the following definitions:\n",
        "\n",
        "*   \"Big Mouth Billy\": Male penguins with bill length times bill depth greater than 800.\n",
        "*   \"Dainty Daisy\": Female penguins with flipper length less than 5% of body mass.\n",
        "*   \"Average Adelie:\" Any Adelie penguins that do not fall into either category.\n",
        "*   \"Other\": Any penguins that do not fall into any of the categories.\n",
        "\n"
      ]
    },
    {
      "cell_type": "code",
      "execution_count": 6,
      "metadata": {
        "id": "udKVPIJmpKG_"
      },
      "outputs": [],
      "source": [
        "# AI Assistance\n",
        "# Fix: NaN values in text fields (sex/species) can be floats; calling .strip() on a float\n",
        "# raises AttributeError. Add a safe normalizer that treats None/NaN as empty strings.\n",
        "\n",
        "import numpy as np\n",
        "import pandas as pd\n",
        "\n",
        "def classify_penguin(\n",
        "    bill_length_mm=None,\n",
        "    bill_depth_mm=None,\n",
        "    sex=None,\n",
        "    flipper_length_mm=None,\n",
        "    body_mass_g=None,\n",
        "    species=None,\n",
        "):\n",
        "    \"\"\"Return one of the four categories based on the prompt rules.\"\"\"\n",
        "    # ---- numeric coercion ----\n",
        "    def to_float(x):\n",
        "        try:\n",
        "            return float(x)\n",
        "        except (TypeError, ValueError):\n",
        "            return np.nan\n",
        "\n",
        "    # ---- NEW: safe text normalization ----\n",
        "    def norm_text(x):\n",
        "        # Treat None/NaN as empty string; otherwise lowercase the stripped string\n",
        "        if x is None or pd.isna(x):\n",
        "            return \"\"\n",
        "        return str(x).strip().lower()\n",
        "\n",
        "    bl = to_float(bill_length_mm)\n",
        "    bd = to_float(bill_depth_mm)\n",
        "    fl = to_float(flipper_length_mm)\n",
        "    bm = to_float(body_mass_g)\n",
        "\n",
        "    sex_norm = norm_text(sex)         # <- safe now\n",
        "    species_norm = norm_text(species) # <- safe now\n",
        "\n",
        "    # ---- Big Mouth Billy ----\n",
        "    prod = bl * bd if (np.isfinite(bl) and np.isfinite(bd)) else np.nan\n",
        "    if sex_norm == \"male\" and np.isfinite(prod) and prod > 800:\n",
        "        return \"Big Mouth Billy\"\n",
        "\n",
        "    # ---- Dainty Daisy ----\n",
        "    threshold = 0.05 * bm if np.isfinite(bm) else np.nan\n",
        "    if sex_norm == \"female\" and np.isfinite(fl) and np.isfinite(threshold) and fl < threshold:\n",
        "        return \"Dainty Daisy\"\n",
        "\n",
        "    # ---- Average Adelie ----\n",
        "    if species_norm == \"adelie\":\n",
        "        return \"Average Adelie\"\n",
        "\n",
        "    # ---- Other ----\n",
        "    return \"Other\""
      ]
    },
    {
      "cell_type": "markdown",
      "metadata": {
        "id": "L3cOiPwJo_q5"
      },
      "source": [
        "2. Use an iterable function to create a new variable called `category_name` that adds these labels."
      ]
    },
    {
      "cell_type": "code",
      "execution_count": 7,
      "metadata": {
        "colab": {
          "base_uri": "https://localhost:8080/"
        },
        "id": "bRUV8Hipra3P",
        "outputId": "90547bc7-0ab2-4c9f-de10-16267396b297"
      },
      "outputs": [
        {
          "name": "stdout",
          "output_type": "stream",
          "text": [
            "Counts for Canvas:\n",
            "Big Mouth Billy  -> 71\n",
            "Dainty Daisy     -> 62\n",
            "Average Adelie   -> 127\n",
            "Other            -> 84\n",
            "Total classified: 344\n"
          ]
        }
      ],
      "source": [
        "# AI Assistance\n",
        "# Guidance emphasized using map() to iterate in parallel across columns and assign the\n",
        "# returned labels to a new column `category_name`, then printing counts in Canvas order.\n",
        "\n",
        "category_labels = list(map(\n",
        "    lambda bl, bd, sx, fl, bm, sp: classify_penguin(\n",
        "        bill_length_mm=bl,\n",
        "        bill_depth_mm=bd,\n",
        "        sex=sx,\n",
        "        flipper_length_mm=fl,\n",
        "        body_mass_g=bm,\n",
        "        species=sp\n",
        "    ),\n",
        "    penguins[\"bill_length_mm\"],\n",
        "    penguins[\"bill_depth_mm\"],\n",
        "    penguins[\"sex\"],\n",
        "    penguins[\"flipper_length_mm\"],\n",
        "    penguins[\"body_mass_g\"],\n",
        "    penguins[\"species\"]\n",
        "))\n",
        "\n",
        "penguins[\"category_name\"] = category_labels\n",
        "\n",
        "order = [\"Big Mouth Billy\", \"Dainty Daisy\", \"Average Adelie\", \"Other\"]\n",
        "counts = penguins[\"category_name\"].value_counts()\n",
        "print(\"Counts for Canvas:\")\n",
        "for name in order:\n",
        "    print(f\"{name:<16} -> {int(counts.get(name, 0))}\")\n",
        "print(\"Total classified:\", int(counts.sum()))"
      ]
    },
    {
      "cell_type": "markdown",
      "metadata": {
        "id": "wzjur3hzpLxr"
      },
      "source": [
        "3. Run the following code to find the counts for each type."
      ]
    },
    {
      "cell_type": "code",
      "execution_count": 8,
      "metadata": {
        "colab": {
          "base_uri": "https://localhost:8080/",
          "height": 241
        },
        "id": "iDHDAKOXpPOm",
        "outputId": "ec4128b2-0535-4b4f-b93d-afa854da3483"
      },
      "outputs": [
        {
          "data": {
            "text/plain": [
              "category_name\n",
              "Average Adelie     127\n",
              "Other               84\n",
              "Big Mouth Billy     71\n",
              "Dainty Daisy        62\n",
              "Name: count, dtype: int64"
            ]
          },
          "execution_count": null,
          "metadata": {},
          "output_type": "execute_result"
        }
      ],
      "source": [
        "penguins.value_counts(\"category_name\")"
      ]
    }
  ],
  "metadata": {
    "colab": {
      "provenance": []
    },
    "kernelspec": {
      "display_name": "Python 3",
      "name": "python3"
    },
    "language_info": {
      "name": "python"
    }
  },
  "nbformat": 4,
  "nbformat_minor": 0
}
