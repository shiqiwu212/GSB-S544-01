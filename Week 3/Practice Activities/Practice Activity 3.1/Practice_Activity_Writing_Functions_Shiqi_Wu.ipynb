{
  "cells": [
    {
      "cell_type": "markdown",
      "metadata": {},
      "source": [
        "---\n",
        "title: \"PA 3.1 — Function Writing (Shiqi Wu)\"\n",
        "format:\n",
        "  html:\n",
        "    self-contained: true   # make a standalone HTML that opens offline\n",
        "    toc: false\n",
        "    code-fold: false\n",
        "jupyter: python3\n",
        "---\n",
        "\n",
        "**Repository:** [GitHub – PA 3.1](https://github.com/shiqiwu212/GSB-S544-01/tree/a4391ccb43ff161799582b78f50379d63ba0051e/Week%203/Practice%20Activities/Practice%20Activity%203.1)"
      ]
    },
    {
      "cell_type": "code",
      "execution_count": 2,
      "metadata": {
        "colab": {
          "base_uri": "https://localhost:8080/"
        },
        "id": "ft_WYOPgkcCM",
        "outputId": "48a14ccb-7531-40b7-d580-cc9f2d26150a"
      },
      "outputs": [
        {
          "name": "stdout",
          "output_type": "stream",
          "text": [
            "Requirement already satisfied: palmerpenguins in /opt/anaconda3/lib/python3.13/site-packages (0.1.4)\r\n",
            "Requirement already satisfied: pandas in /opt/anaconda3/lib/python3.13/site-packages (from palmerpenguins) (2.2.3)\r\n",
            "Requirement already satisfied: numpy in /opt/anaconda3/lib/python3.13/site-packages (from palmerpenguins) (2.1.3)\r\n",
            "Requirement already satisfied: python-dateutil>=2.8.2 in /Applications/Positron.app/Contents/Resources/app/extensions/positron-python/python_files/lib/ipykernel/py3 (from pandas->palmerpenguins) (2.9.0.post0)\r\n",
            "Requirement already satisfied: pytz>=2020.1 in /opt/anaconda3/lib/python3.13/site-packages (from pandas->palmerpenguins) (2024.1)\r\n",
            "Requirement already satisfied: tzdata>=2022.7 in /opt/anaconda3/lib/python3.13/site-packages (from pandas->palmerpenguins) (2025.2)\r\n",
            "Requirement already satisfied: six>=1.5 in /Applications/Positron.app/Contents/Resources/app/extensions/positron-python/python_files/lib/ipykernel/py3 (from python-dateutil>=2.8.2->pandas->palmerpenguins) (1.17.0)\r\n"
          ]
        }
      ],
      "source": [
        "!pip install palmerpenguins"
      ]
    },
    {
      "cell_type": "code",
      "execution_count": 3,
      "metadata": {
        "id": "b69ul3XcoRQv"
      },
      "outputs": [],
      "source": [
        "import numpy as np\n",
        "import pandas as pd\n",
        "from sys import exit\n",
        "from palmerpenguins import load_penguins\n",
        "from plotnine import ggplot, aes, geom_point, geom_bar"
      ]
    },
    {
      "cell_type": "markdown",
      "metadata": {
        "id": "1Q8_a-5qociG"
      },
      "source": [
        "1. Fill in the necessary code to write a function called `times_seven()`. The function should take a single argument (`x`) and multiply the input by 7.\n",
        "  + This function should check that the argument is numeric.\n",
        "  + This function should also excitedly announce (print) *“I love sevens!”* if the argument to the function is a 7."
      ]
    },
    {
      "cell_type": "code",
      "execution_count": 4,
      "metadata": {
        "id": "8c90DJlA5ClN"
      },
      "outputs": [],
      "source": [
        "# AI Assistance:\n",
        "# Guidance focused on a clear numeric-type check, actionable error text, and distinct\n",
        "# print vs. return behavior. The student reviewed and verified the final logic\n",
        "\n",
        "def times_seven(x):\n",
        "    \"\"\"\n",
        "    Multiply the input by 7 and return the result.\n",
        "    - Validate that x is numeric (int/float/NumPy numeric).\n",
        "    - If x equals 7, print an excited message.\n",
        "    - On invalid input, exit with a clear, actionable message.\n",
        "    \"\"\"\n",
        "    is_numeric = isinstance(x, (int, float, np.number))\n",
        "    if not is_numeric:\n",
        "        exit(\"Input x must be numeric (a single number), e.g., 3, 2.5, or np.int64(2).\")\n",
        "\n",
        "    if x == 7:\n",
        "        print(\"I love sevens!\")\n",
        "\n",
        "    return x * 7"
      ]
    },
    {
      "cell_type": "markdown",
      "metadata": {
        "id": "nonjYlruotrq"
      },
      "source": [
        "2. Write and run some *unit tests* for your `times_seven` function.  What happens if the input to the function is `[1, 3, 5, 7]`?"
      ]
    },
    {
      "cell_type": "code",
      "execution_count": 5,
      "metadata": {
        "colab": {
          "base_uri": "https://localhost:8080/"
        },
        "id": "KRzTwhm85rPP",
        "outputId": "8b9b2456-bed4-4d52-d96d-3651a96ec6a4"
      },
      "outputs": [
        {
          "name": "stdout",
          "output_type": "stream",
          "text": [
            "[PASS] returns 21 for x=3\n",
            "[PASS] prints + returns for x=7\n",
            "[PASS] rejects non-numeric string\n",
            "[PASS] rejects list [1,3,5,7]\n",
            "[PASS] accepts NumPy numeric\n"
          ]
        }
      ],
      "source": [
        "# AI Assistance:\n",
        "# Guidance focused on building minimal tests that (1) verify return values,\n",
        "# (2) capture printed output for x==7, and (3) safely capture SystemExit so invalid-input\n",
        "\n",
        "import io\n",
        "import contextlib\n",
        "\n",
        "def capture_exit_msg(func, *args, **kwargs):\n",
        "    \"\"\"Return ('OK', value) or ('EXIT', message) without stopping the notebook.\"\"\"\n",
        "    try:\n",
        "        val = func(*args, **kwargs)\n",
        "        return (\"OK\", val)\n",
        "    except SystemExit as e:\n",
        "        return (\"EXIT\", str(e))\n",
        "\n",
        "def capture_stdout(func, *args, **kwargs):\n",
        "    \"\"\"Run func and return (printed_text, return_value).\"\"\"\n",
        "    buf = io.StringIO()\n",
        "    with contextlib.redirect_stdout(buf):\n",
        "        result = func(*args, **kwargs)\n",
        "    return buf.getvalue(), result\n",
        "\n",
        "def run_test(name, test_fn):\n",
        "    \"\"\"Execute a test function and print PASS/FAIL.\"\"\"\n",
        "    try:\n",
        "        test_fn()\n",
        "        print(\"[PASS]\", name)\n",
        "    except AssertionError as e:\n",
        "        print(\"[FAIL]\", name, \"-\", e)\n",
        "\n",
        "# ---- Tests ----\n",
        "\n",
        "def test_returns_21_for_3():\n",
        "    status, val = capture_exit_msg(times_seven, 3)\n",
        "    assert status == \"OK\" and val == 21, f\"Expected 21, got {status} / {val}\"\n",
        "\n",
        "def test_prints_and_returns_for_7():\n",
        "    out, val = capture_stdout(times_seven, 7)  # should print and return 49\n",
        "    assert \"I love sevens!\" in out, \"Expected the message to be printed\"\n",
        "    assert val == 49, f\"Expected 49, got {val}\"\n",
        "\n",
        "def test_rejects_string():\n",
        "    status, msg = capture_exit_msg(times_seven, \"abc\")\n",
        "    assert status == \"EXIT\" and \"numeric\" in msg, f\"Expected EXIT with numeric message, got {status} / {msg}\"\n",
        "\n",
        "def test_rejects_list_1357():\n",
        "    # Answers the prompt: what happens for [1, 3, 5, 7]?\n",
        "    status, msg = capture_exit_msg(times_seven, [1, 3, 5, 7])\n",
        "    assert status == \"EXIT\" and \"numeric\" in msg, f\"Expected EXIT with numeric message, got {status} / {msg}\"\n",
        "\n",
        "def test_numpy_numeric():\n",
        "    # Relies on 'import numpy as np' from Step 0 setup cell\n",
        "    status, val = capture_exit_msg(times_seven, np.int64(2))\n",
        "    assert status == \"OK\" and val == 14, f\"Expected 14, got {status} / {val}\"\n",
        "\n",
        "# Run all tests\n",
        "run_test(\"returns 21 for x=3\", test_returns_21_for_3)\n",
        "run_test(\"prints + returns for x=7\", test_prints_and_returns_for_7)\n",
        "run_test(\"rejects non-numeric string\", test_rejects_string)\n",
        "run_test(\"rejects list [1,3,5,7]\", test_rejects_list_1357)\n",
        "run_test(\"accepts NumPy numeric\", test_numpy_numeric)"
      ]
    },
    {
      "cell_type": "markdown",
      "metadata": {
        "id": "98sLHKBno39e"
      },
      "source": [
        "3. Consider the following function:"
      ]
    },
    {
      "cell_type": "code",
      "execution_count": 6,
      "metadata": {
        "id": "V1xGEwq-o5mh"
      },
      "outputs": [],
      "source": [
        "def add_or_subtract(first_num, second_num = 2, type = \"add\"):\n",
        "\n",
        "  if (type == \"add\"):\n",
        "    res = first_num + second_num\n",
        "  elif (type == \"subtract\"):\n",
        "    res = first_num - second_num\n",
        "  else:\n",
        "    exit(\"Please choose `add` or `subtract` as the type.\")\n",
        "\n",
        "    return res"
      ]
    },
    {
      "cell_type": "markdown",
      "metadata": {
        "id": "KIzEYgR1pI0K"
      },
      "source": [
        "**Without running the code**, predict if the following will produce:\n",
        "\n",
        "a. 1\n",
        "\n",
        "b. -1\n",
        "\n",
        "c. 30\n",
        "\n",
        "d. An error defined by the function `add_or_subtract()`\n",
        "\n",
        "e. An error defined in a different function, which is called inside the `add_or_subtract()` function"
      ]
    },
    {
      "cell_type": "code",
      "execution_count": 7,
      "metadata": {
        "colab": {
          "base_uri": "https://localhost:8080/"
        },
        "id": "s7o0qGjnPi7i",
        "outputId": "bf3db22e-a7fe-4ade-80a3-b78a1bea52d1"
      },
      "outputs": [
        {
          "name": "stdout",
          "output_type": "stream",
          "text": [
            "Instructor prompt (do NOT run):\n",
            "add_or_subtract(5, 6, type='subtract')\n",
            "add_or_subtract('orange')\n",
            "add_or_subtract(5, 6, type='multiply')\n",
            "\n",
            "Predictions (without running):\n",
            "add_or_subtract(5, 6, type='subtract')  ->  a. 1\n",
            "add_or_subtract('orange')  ->  e. An error defined in a different function\n",
            "add_or_subtract(5, 6, type='multiply')  ->  d. An error defined by add_or_subtract()\n"
          ]
        }
      ],
      "source": [
        "# This outputs of this cell are only show my prediction.\n",
        "# add_or_subtract(5, 6, type = \"subtract\")\n",
        "\n",
        "# add_or_subtract(\"orange\")\n",
        "\n",
        "# add_or_subtract(5, 6, type = \"multiply\")\n",
        "\n",
        "# Show the instructor's sample calls as text (not executed)\n",
        "\n",
        "sample_calls = [\n",
        "    \"add_or_subtract(5, 6, type='subtract')\",\n",
        "    \"add_or_subtract('orange')\",\n",
        "    \"add_or_subtract(5, 6, type='multiply')\"\n",
        "]\n",
        "\n",
        "# Predicted answers mapped to each call (without running them)\n",
        "predictions = {\n",
        "    \"add_or_subtract(5, 6, type='subtract')\": \"a. 1\",\n",
        "    \"add_or_subtract('orange')\": \"e. An error defined in a different function\",\n",
        "    \"add_or_subtract(5, 6, type='multiply')\": \"d. An error defined by add_or_subtract()\"\n",
        "}\n",
        "\n",
        "print(\"Instructor prompt (do NOT run):\")\n",
        "for call in sample_calls:\n",
        "    print(call)\n",
        "\n",
        "print(\"\\nPredictions (without running):\")\n",
        "for call in sample_calls:\n",
        "    print(f\"{call}  ->  {predictions[call]}\")"
      ]
    },
    {
      "cell_type": "markdown",
      "metadata": {
        "id": "Z0_cVjgdpOSr"
      },
      "source": [
        "4. Consider the following code:"
      ]
    },
    {
      "cell_type": "code",
      "execution_count": 8,
      "metadata": {
        "id": "G4ImmGWGpekK"
      },
      "outputs": [],
      "source": [
        "first_num  = 5\n",
        "second_num = 3\n",
        "\n",
        "result = 8\n",
        "\n",
        "result = add_or_subtract(first_num, second_num = 4)\n",
        "\n",
        "result_2 = add_or_subtract(first_num)"
      ]
    },
    {
      "cell_type": "markdown",
      "metadata": {
        "id": "K0I7k29Qpjfo"
      },
      "source": [
        "\n",
        "In your Global Environment, what is the value of...\n",
        "\n",
        "a. `first_num`\n",
        "\n",
        "b. `second_num`\n",
        "\n",
        "c. `result`\n",
        "\n",
        "d. `result_2`"
      ]
    },
    {
      "cell_type": "code",
      "execution_count": 9,
      "metadata": {
        "colab": {
          "base_uri": "https://localhost:8080/"
        },
        "id": "zYSVt6OJVV3d",
        "outputId": "9ad3dbbf-818e-4ff8-e134-21f37b090612"
      },
      "outputs": [
        {
          "name": "stdout",
          "output_type": "stream",
          "text": [
            "Q4 answers (global environment):\n",
            "a) first_num = 5\n",
            "b) second_num = 3\n",
            "c) result = None\n",
            "d) result_2 = None\n",
            "\n",
            "Why:\n",
            "- The function's `return` is indented under the `else` branch.\n",
            "- With default type='add', the code computes a value but never reaches `return`, so it returns None.\n",
            "- The globals first_num and second_num are not reassigned; passing second_num=4 is just an argument.\n"
          ]
        }
      ],
      "source": [
        "# Answers and explnations.\n",
        "# AI Assistance：\n",
        "# In the provided notebook, add_or_subtract() places `return` under the `else` branch.\n",
        "# Therefore, calls that use the default type='add' do not execute a return and implicitly return None.\n",
        "\n",
        "answers = [\n",
        "    (\"a) first_num\", 5),\n",
        "    (\"b) second_num\", 3),\n",
        "    (\"c) result\", None),\n",
        "    (\"d) result_2\", None),\n",
        "]\n",
        "\n",
        "print(\"Q4 answers (global environment):\")\n",
        "for k, v in answers:\n",
        "    print(f\"{k} = {v}\")\n",
        "\n",
        "print(\"\\nWhy:\")\n",
        "print(\"- The function's `return` is indented under the `else` branch.\")\n",
        "print(\"- With default type='add', the code computes a value but never reaches `return`, so it returns None.\")\n",
        "print(\"- The globals first_num and second_num are not reassigned; passing second_num=4 is just an argument.\")"
      ]
    }
  ],
  "metadata": {
    "colab": {
      "provenance": []
    },
    "kernelspec": {
      "display_name": "Python 3",
      "name": "python3"
    },
    "language_info": {
      "name": "python"
    }
  },
  "nbformat": 4,
  "nbformat_minor": 0
}
