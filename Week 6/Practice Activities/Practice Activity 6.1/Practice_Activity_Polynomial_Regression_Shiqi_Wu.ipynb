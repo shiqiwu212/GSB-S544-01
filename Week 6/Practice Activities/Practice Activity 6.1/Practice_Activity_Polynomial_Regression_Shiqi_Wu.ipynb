{
  "cells": [
    {
      "cell_type": "markdown",
      "metadata": {},
      "source": [
        "---\n",
        "title: \"Practice Activity 6.1 — Polynomial_Polynomial_Regression\"\n",
        "format:\n",
        "  html:\n",
        "    embed-resources: true   \n",
        "    toc: true\n",
        "    toc-depth: 2\n",
        "execute:\n",
        "  echo: true\n",
        "  warning: false\n",
        "  error: false\n",
        "  freeze: auto              \n",
        "  cache: true\n",
        "---\n",
        "\n",
        "[Practice Activity 6.1](https://github.com/shiqiwu212/GSB-S544-01/tree/7775414dd89ce55b2443e5f4eb96d0eb84f9fdfe/Week%206/Practice%20Activities/Practice%20Activity%206.1)\n"
      ]
    },
    {
      "cell_type": "markdown",
      "metadata": {
        "id": "M3NFTx_UIZjO"
      },
      "source": [
        "# Palmer Penguins Modeling\n",
        "\n",
        "Import the Palmer Penguins dataset and print out the first few rows.\n",
        "\n",
        "Suppose we want to predict `bill_depth_mm` using the other variables in the dataset.\n",
        "\n",
        "Which variables would we need to **dummify**?"
      ]
    },
    {
      "cell_type": "code",
      "execution_count": null,
      "metadata": {
        "id": "dDD69T-VISjB"
      },
      "outputs": [
        {
          "data": {
            "text/html": [
              "<div>\n",
              "<style scoped>\n",
              "    .dataframe tbody tr th:only-of-type {\n",
              "        vertical-align: middle;\n",
              "    }\n",
              "\n",
              "    .dataframe tbody tr th {\n",
              "        vertical-align: top;\n",
              "    }\n",
              "\n",
              "    .dataframe thead th {\n",
              "        text-align: right;\n",
              "    }\n",
              "</style>\n",
              "<table border=\"1\" class=\"dataframe\">\n",
              "  <thead>\n",
              "    <tr style=\"text-align: right;\">\n",
              "      <th></th>\n",
              "      <th>species</th>\n",
              "      <th>island</th>\n",
              "      <th>bill_length_mm</th>\n",
              "      <th>bill_depth_mm</th>\n",
              "      <th>flipper_length_mm</th>\n",
              "      <th>body_mass_g</th>\n",
              "      <th>sex</th>\n",
              "      <th>year</th>\n",
              "    </tr>\n",
              "  </thead>\n",
              "  <tbody>\n",
              "    <tr>\n",
              "      <th>0</th>\n",
              "      <td>Adelie</td>\n",
              "      <td>Torgersen</td>\n",
              "      <td>39.1</td>\n",
              "      <td>18.7</td>\n",
              "      <td>181.0</td>\n",
              "      <td>3750.0</td>\n",
              "      <td>male</td>\n",
              "      <td>2007</td>\n",
              "    </tr>\n",
              "    <tr>\n",
              "      <th>1</th>\n",
              "      <td>Adelie</td>\n",
              "      <td>Torgersen</td>\n",
              "      <td>39.5</td>\n",
              "      <td>17.4</td>\n",
              "      <td>186.0</td>\n",
              "      <td>3800.0</td>\n",
              "      <td>female</td>\n",
              "      <td>2007</td>\n",
              "    </tr>\n",
              "    <tr>\n",
              "      <th>2</th>\n",
              "      <td>Adelie</td>\n",
              "      <td>Torgersen</td>\n",
              "      <td>40.3</td>\n",
              "      <td>18.0</td>\n",
              "      <td>195.0</td>\n",
              "      <td>3250.0</td>\n",
              "      <td>female</td>\n",
              "      <td>2007</td>\n",
              "    </tr>\n",
              "    <tr>\n",
              "      <th>3</th>\n",
              "      <td>Adelie</td>\n",
              "      <td>Torgersen</td>\n",
              "      <td>NaN</td>\n",
              "      <td>NaN</td>\n",
              "      <td>NaN</td>\n",
              "      <td>NaN</td>\n",
              "      <td>NaN</td>\n",
              "      <td>2007</td>\n",
              "    </tr>\n",
              "    <tr>\n",
              "      <th>4</th>\n",
              "      <td>Adelie</td>\n",
              "      <td>Torgersen</td>\n",
              "      <td>36.7</td>\n",
              "      <td>19.3</td>\n",
              "      <td>193.0</td>\n",
              "      <td>3450.0</td>\n",
              "      <td>female</td>\n",
              "      <td>2007</td>\n",
              "    </tr>\n",
              "    <tr>\n",
              "      <th>...</th>\n",
              "      <td>...</td>\n",
              "      <td>...</td>\n",
              "      <td>...</td>\n",
              "      <td>...</td>\n",
              "      <td>...</td>\n",
              "      <td>...</td>\n",
              "      <td>...</td>\n",
              "      <td>...</td>\n",
              "    </tr>\n",
              "    <tr>\n",
              "      <th>339</th>\n",
              "      <td>Chinstrap</td>\n",
              "      <td>Dream</td>\n",
              "      <td>55.8</td>\n",
              "      <td>19.8</td>\n",
              "      <td>207.0</td>\n",
              "      <td>4000.0</td>\n",
              "      <td>male</td>\n",
              "      <td>2009</td>\n",
              "    </tr>\n",
              "    <tr>\n",
              "      <th>340</th>\n",
              "      <td>Chinstrap</td>\n",
              "      <td>Dream</td>\n",
              "      <td>43.5</td>\n",
              "      <td>18.1</td>\n",
              "      <td>202.0</td>\n",
              "      <td>3400.0</td>\n",
              "      <td>female</td>\n",
              "      <td>2009</td>\n",
              "    </tr>\n",
              "    <tr>\n",
              "      <th>341</th>\n",
              "      <td>Chinstrap</td>\n",
              "      <td>Dream</td>\n",
              "      <td>49.6</td>\n",
              "      <td>18.2</td>\n",
              "      <td>193.0</td>\n",
              "      <td>3775.0</td>\n",
              "      <td>male</td>\n",
              "      <td>2009</td>\n",
              "    </tr>\n",
              "    <tr>\n",
              "      <th>342</th>\n",
              "      <td>Chinstrap</td>\n",
              "      <td>Dream</td>\n",
              "      <td>50.8</td>\n",
              "      <td>19.0</td>\n",
              "      <td>210.0</td>\n",
              "      <td>4100.0</td>\n",
              "      <td>male</td>\n",
              "      <td>2009</td>\n",
              "    </tr>\n",
              "    <tr>\n",
              "      <th>343</th>\n",
              "      <td>Chinstrap</td>\n",
              "      <td>Dream</td>\n",
              "      <td>50.2</td>\n",
              "      <td>18.7</td>\n",
              "      <td>198.0</td>\n",
              "      <td>3775.0</td>\n",
              "      <td>female</td>\n",
              "      <td>2009</td>\n",
              "    </tr>\n",
              "  </tbody>\n",
              "</table>\n",
              "<p>344 rows × 8 columns</p>\n",
              "</div>"
            ],
            "text/plain": [
              "       species     island  bill_length_mm  bill_depth_mm  flipper_length_mm  \\\n",
              "0       Adelie  Torgersen            39.1           18.7              181.0   \n",
              "1       Adelie  Torgersen            39.5           17.4              186.0   \n",
              "2       Adelie  Torgersen            40.3           18.0              195.0   \n",
              "3       Adelie  Torgersen             NaN            NaN                NaN   \n",
              "4       Adelie  Torgersen            36.7           19.3              193.0   \n",
              "..         ...        ...             ...            ...                ...   \n",
              "339  Chinstrap      Dream            55.8           19.8              207.0   \n",
              "340  Chinstrap      Dream            43.5           18.1              202.0   \n",
              "341  Chinstrap      Dream            49.6           18.2              193.0   \n",
              "342  Chinstrap      Dream            50.8           19.0              210.0   \n",
              "343  Chinstrap      Dream            50.2           18.7              198.0   \n",
              "\n",
              "     body_mass_g     sex  year  \n",
              "0         3750.0    male  2007  \n",
              "1         3800.0  female  2007  \n",
              "2         3250.0  female  2007  \n",
              "3            NaN     NaN  2007  \n",
              "4         3450.0  female  2007  \n",
              "..           ...     ...   ...  \n",
              "339       4000.0    male  2009  \n",
              "340       3400.0  female  2009  \n",
              "341       3775.0    male  2009  \n",
              "342       4100.0    male  2009  \n",
              "343       3775.0  female  2009  \n",
              "\n",
              "[344 rows x 8 columns]"
            ]
          },
          "execution_count": null,
          "metadata": {},
          "output_type": "execute_result"
        }
      ],
      "source": [
        "#Import the Palmer penguins dataset and print out he first few rows.\n",
        "import pandas as pd\n",
        "from palmerpenguins import load_penguins\n",
        "from plotnine import ggplot, aes, geom_point, geom_boxplot, geom_bar, geom_histogram, geom_density, facet_wrap\n",
        "penguins = load_penguins()\n",
        "penguins "
      ]
    },
    {
      "cell_type": "code",
      "execution_count": 8,
      "metadata": {},
      "outputs": [],
      "source": [
        "# Suppose we want to predict `bill_depth_mm` using the other variables in the dataset. According to 10.4.1: Target and Predictors.\n",
        "y = penguins['bill_depth_mm']\n",
        "X = penguins[['bill_length_mm', 'flipper_length_mm', 'body_mass_g','species', 'island', 'sex', 'year']]"
      ]
    },
    {
      "cell_type": "markdown",
      "metadata": {},
      "source": [
        "Which variables would we need to **dummify**?\n",
        "\n",
        "Answer: The variables we need to dummify should be sex, year, island. "
      ]
    },
    {
      "cell_type": "markdown",
      "metadata": {
        "id": "hEwiWESpJLwi"
      },
      "source": [
        "Let's use `bill_length_mm` to predict `bill_depth_mm`. Prepare your data and fit the following models on the entire dataset:\n",
        "\n",
        "* Simple linear regression (e.g. straight-line) model\n",
        "* Quadratic (degree 2 polynomial) model\n",
        "* Cubic (degree 3 polynomial) model\n",
        "* Degree 10 polynomial model\n",
        "\n",
        "Make predictions for each model and plot your fitted models on the scatterplot."
      ]
    },
    {
      "cell_type": "code",
      "execution_count": null,
      "metadata": {
        "id": "tjuOvH63LQ2b"
      },
      "outputs": [],
      "source": [
        "# Set Up\n",
        "import pandas as pd\n",
        "import numpy as np\n",
        "from sklearn.model_selection import train_test_split\n",
        "from sklearn.neighbors import KNeighborsRegressor\n",
        "from sklearn.tree import DecisionTreeRegressor\n",
        "from sklearn.linear_model import LinearRegression\n",
        "from sklearn.metrics import mean_squared_error"
      ]
    },
    {
      "cell_type": "code",
      "execution_count": null,
      "metadata": {},
      "outputs": [
        {
          "name": "stdout",
          "output_type": "stream",
          "text": [
            "2.1429255813953496 0.8133247472425623 1.2144186046511627\n"
          ]
        },
        {
          "data": {
            "text/plain": [
              "array([ 4.38012719e-02,  2.69744026e-02,  4.76697435e-04, -1.56268696e-01,\n",
              "       -4.73967701e-01, -5.18568821e+00, -1.34379860e-01,  6.48458729e-03,\n",
              "        8.19378886e-01])"
            ]
          },
          "execution_count": null,
          "metadata": {},
          "output_type": "execute_result"
        }
      ],
      "source": [
        "# 11.5.1 Dummifying Categorical Variables\n",
        "X_enc = pd.get_dummies(X, drop_first=True)\n",
        "\n",
        "# 11.4.3: Variable prep happens before any model fit\n",
        "valid = y.notna() & X_enc.notna().all(axis=1)\n",
        "X_enc = X_enc.loc[valid]\n",
        "y_clean = y.loc[valid]\n",
        "\n",
        "# 10.4.3 Test/training split\n",
        "X_train, X_test, y_train, y_test = train_test_split(X_enc, y_clean, test_size=0.25)\n",
        "\n",
        "# 10.4.2 Model specifications\n",
        "knn = KNeighborsRegressor()\n",
        "lr  = LinearRegression()\n",
        "dt  = DecisionTreeRegressor()\n",
        "\n",
        "# 10.4.4 Model fitting\n",
        "lr_fit  = lr.fit(X_train, y_train)\n",
        "dt_fit  = dt.fit(X_train, y_train)\n",
        "knn_fit = knn.fit(X_train, y_train)\n",
        "\n",
        "# 10.4.4 Predictions\n",
        "y_pred_knn = knn_fit.predict(X_test)\n",
        "y_pred_lr  = lr_fit.predict(X_test)\n",
        "y_pred_dt  = dt_fit.predict(X_test)\n",
        "\n",
        "# 10.4.4 Metrics and model comparison\n",
        "mse_knn = mean_squared_error(y_test, y_pred_knn)\n",
        "mse_lr  = mean_squared_error(y_test, y_pred_lr)\n",
        "mse_dt  = mean_squared_error(y_test, y_pred_dt)\n",
        "print(mse_knn, mse_lr, mse_dt)\n",
        "\n",
        "# 10.4.4 Final model step\n",
        "final_model = lr.fit(X_enc, y_clean)\n",
        "final_model.coef_"
      ]
    },
    {
      "cell_type": "code",
      "execution_count": 15,
      "metadata": {},
      "outputs": [
        {
          "name": "stdout",
          "output_type": "stream",
          "text": [
            "TRAIN MSEs: {'LR': 0.5627468924937472, 'DT': 0.0, 'KNN': 1.5849265625000004}\n"
          ]
        }
      ],
      "source": [
        "# 10.4.4 Training-set predictions \n",
        "y_tr_pred_lr  = lr_fit.predict(X_train)\n",
        "y_tr_pred_dt  = dt_fit.predict(X_train)\n",
        "y_tr_pred_knn = knn_fit.predict(X_train)\n",
        "\n",
        "# 10.4.4 Training MSE \n",
        "mse_tr_lr  = mean_squared_error(y_train, y_tr_pred_lr)\n",
        "mse_tr_dt  = mean_squared_error(y_train, y_tr_pred_dt)\n",
        "mse_tr_knn = mean_squared_error(y_train, y_tr_pred_knn)\n",
        "\n",
        "print(\"TRAIN MSEs:\", {\"LR\": mse_tr_lr, \"DT\": mse_tr_dt, \"KNN\": mse_tr_knn})"
      ]
    },
    {
      "cell_type": "markdown",
      "metadata": {
        "id": "Ph3lo8ExLSTG"
      },
      "source": [
        "* Are any of the models above underfitting the data? If so, which ones and how can you tell?\n",
        "* Are any of thhe models above overfitting the data? If so, which ones and how can you tell?\n",
        "* Which of the above models do you think fits the data best and why?"
      ]
    },
    {
      "cell_type": "markdown",
      "metadata": {},
      "source": [
        "1.Yes. KNN is underfitting. Its training MSE is ≈ 1.585 and the test MSE is ≈ 2.149, and they are close. The model is too simple for the pattern.\n",
        "\n",
        "2.Yes. Decision Tree is overfitting. Training MSE is 0, but test MSE is about ≈ 1.214, the big gap shows overfitting.\n",
        "\n",
        "3.The Linear Regression fits best. The reason is that tt has the lowest test MSE, which is ≈ 0.813 and a small train–test gap."
      ]
    }
  ],
  "metadata": {
    "colab": {
      "provenance": []
    },
    "kernelspec": {
      "display_name": "Python 3",
      "name": "python3"
    },
    "language_info": {
      "name": "python"
    }
  },
  "nbformat": 4,
  "nbformat_minor": 0
}
