{
  "cells": [
    {
      "cell_type": "markdown",
      "metadata": {},
      "source": [
        "---\n",
        "title: \"Practice Activity 6.2 — Multiple Regression and Model Validation\"\n",
        "format:\n",
        "  html:\n",
        "    embed-resources: true   \n",
        "    toc: true\n",
        "    toc-depth: 2\n",
        "execute:\n",
        "  echo: true\n",
        "  warning: false\n",
        "  error: false\n",
        "  freeze: auto              \n",
        "  cache: true\n",
        "---\n",
        "\n",
        "[Practice Activity 6.2](https://github.com/shiqiwu212/GSB-S544-01/tree/d488bd6159b7601658414783b5eed5d698a6990b/Week%206/Practice%20Activities/Practice%20Activity%206.2)\n"
      ]
    },
    {
      "cell_type": "markdown",
      "metadata": {
        "id": "FdLoheP-mrxn"
      },
      "source": [
        "# Palmer Penguins Modeling\n",
        "\n",
        "Import the Palmer Penguins dataset and print out the first few rows.\n",
        "\n",
        "Suppose we want to predict `bill_depth_mm` using the other variables in the dataset.\n",
        "\n",
        "**Dummify** all variables that require this."
      ]
    },
    {
      "cell_type": "code",
      "execution_count": 14,
      "metadata": {
        "id": "N5lG475yllju"
      },
      "outputs": [],
      "source": [
        "#Set Up and load the Palmer Penguins dataset\n",
        "import pandas as pd\n",
        "import numpy as np\n",
        "from palmerpenguins import load_penguins                      \n",
        "from sklearn.linear_model import LinearRegression              \n",
        "from sklearn.metrics import r2_score     \n",
        "\n",
        "penguins = load_penguins()"
      ]
    },
    {
      "cell_type": "code",
      "execution_count": 15,
      "metadata": {},
      "outputs": [
        {
          "name": "stdout",
          "output_type": "stream",
          "text": [
            "208.12658322761854\n",
            "0.8434943760341517\n"
          ]
        }
      ],
      "source": [
        "# 10.4.1: Set target y and predictors X                              \n",
        "y = penguins['bill_depth_mm']\n",
        "X = penguins[['bill_length_mm','flipper_length_mm','body_mass_g','species','island','sex','year']]\n",
        "\n",
        "# 11.5.1: Dummify categorical predictors before fitting             \n",
        "X_enc = pd.get_dummies(X, drop_first=True)\n",
        "\n",
        "# 11.4.3: Finish variable prep before any fit \n",
        "mask = y.notna() & X_enc.notna().all(axis=1)\n",
        "y_clean = y.loc[mask]\n",
        "X_enc = X_enc.loc[mask]\n",
        "\n",
        "# 12.3: Fit multiple linear regression on the full data         \n",
        "lr = LinearRegression()\n",
        "lr_fit = lr.fit(X_enc, y_clean)\n",
        "\n",
        "# 11.5 and 12.3: Predict on the same full data; compute SSR and R^2           \n",
        "y_hat = lr_fit.predict(X_enc)\n",
        "resid = y_clean - y_hat\n",
        "SSR = float(np.sum(resid**2))          \n",
        "R2  = float(r2_score(y_clean, y_hat))   \n",
        "\n",
        "print(SSR)\n",
        "print(R2)"
      ]
    },
    {
      "cell_type": "markdown",
      "metadata": {
        "id": "TT1MVgaKm_gX"
      },
      "source": [
        "Let's use the other variables to predict `bill_depth_mm`. Prepare your data and fit the following models on a training dataset subset of the entire dataset:\n",
        "\n",
        "* Four different models, each containing a different set of predictor variables\n",
        "\n",
        "Create a plot like the right plot of Fig 1. in our `Model Validation` chapter with the training and test error plotted for each of your four models.\n",
        "\n",
        "Which of your models was best?"
      ]
    },
    {
      "cell_type": "code",
      "execution_count": 16,
      "metadata": {
        "id": "M6f7JWZTm6tn"
      },
      "outputs": [
        {
          "name": "stdout",
          "output_type": "stream",
          "text": [
            "M1_numeric 1.5013584699387 1.6829710068851047\n",
            "M2_num+species 0.7704058359472631 0.9862449447698839\n",
            "M3_num+species+island 0.7703943534695183 0.9866379178038711\n",
            "M4_full 0.7306146015881056 0.9341647822596981\n"
          ]
        },
        {
          "data": {
            "image/png": "[encoded data removed]",
            "text/plain": [
              "<Figure size 640x480 with 1 Axes>"
            ]
          },
          "metadata": {},
          "output_type": "display_data"
        }
      ],
      "source": [
        "# 10.4.3 and 12.4: One split used for all four models \n",
        "X_train, X_test, y_train, y_test = train_test_split(X_enc, y_clean, test_size=0.25)\n",
        "\n",
        "# 12.3: Use all predictors\n",
        "cols_M1 = ['bill_length_mm','flipper_length_mm','body_mass_g','year']                 \n",
        "cols_M2 = cols_M1 + ['species_Chinstrap','species_Gentoo']                            \n",
        "cols_M3 = cols_M2 + ['island_Dream','island_Torgersen']                               \n",
        "cols_M4 = X_enc.columns.tolist()                                                      \n",
        "\n",
        "models = {'M1_numeric': cols_M1,'M2_num+species': cols_M2,'M3_num+species+island': cols_M3,'M4_full': cols_M4}\n",
        "\n",
        "# 10.4.4 and 12.4: Fit LR on train; compute TRAIN/TEST RMSE for each\n",
        "train_rmse, test_rmse, order = [], [], []\n",
        "for name, cols in models.items():\n",
        "    lr = LinearRegression()\n",
        "    lr_fit = lr.fit(X_train[cols], y_train)\n",
        "    y_tr_hat = lr_fit.predict(X_train[cols])\n",
        "    y_te_hat = lr_fit.predict(X_test[cols])\n",
        "    rmse_tr = float(np.sqrt(mean_squared_error(y_train, y_tr_hat)))\n",
        "    rmse_te = float(np.sqrt(mean_squared_error(y_test,  y_te_hat)))\n",
        "    train_rmse.append(rmse_tr); test_rmse.append(rmse_te); order.append(name)\n",
        "\n",
        "# 12.4: Model Evaluation\n",
        "x = np.arange(len(order)); w = 0.35\n",
        "plt.figure()\n",
        "plt.bar(x - w/2, train_rmse, width=w, label=\"Train RMSE\")\n",
        "plt.bar(x + w/2, test_rmse,  width=w, label=\"Test RMSE\")\n",
        "plt.xticks(x, order, rotation=15)\n",
        "plt.ylabel(\"RMSE\")\n",
        "plt.legend()\n",
        "plt.tight_layout()\n",
        "\n",
        "# Output of lowest TEST RMSE\n",
        "for n, tr, te in zip(order, train_rmse, test_rmse):\n",
        "    print(n, tr, te)"
      ]
    },
    {
      "cell_type": "markdown",
      "metadata": {},
      "source": [
        "Answer:\n",
        "The best model is \"M4_full\". Because it has the lowest test RMSE, about 0.8033712151325091. and also the train-test gap is small."
      ]
    }
  ],
  "metadata": {
    "colab": {
      "provenance": []
    },
    "kernelspec": {
      "display_name": "Python 3",
      "name": "python3"
    },
    "language_info": {
      "name": "python"
    }
  },
  "nbformat": 4,
  "nbformat_minor": 0
}
